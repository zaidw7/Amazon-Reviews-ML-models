{
 "cells": [
  {
   "cell_type": "markdown",
   "id": "41a7dfbf",
   "metadata": {},
   "source": [
    "# Imports"
   ]
  },
  {
   "cell_type": "code",
   "execution_count": 1,
   "id": "e461b1c0",
   "metadata": {},
   "outputs": [],
   "source": [
    "import numpy as np\n",
    "import pandas as pd\n",
    "from pandas import DataFrame as df\n",
    "import matplotlib.pyplot as plt\n",
    "\n",
    "import spacy\n",
    "import re\n",
    "import string\n",
    "import nltk\n",
    "from nltk.corpus import stopwords\n",
    "import wordcloud"
   ]
  },
  {
   "cell_type": "code",
   "execution_count": 2,
   "id": "d6531121",
   "metadata": {},
   "outputs": [],
   "source": [
    "from sklearn.model_selection import train_test_split\n",
    "from sklearn import preprocessing\n",
    "from collections import Counter\n",
    "import tensorflow as tf\n",
    "from tensorflow import keras\n",
    "from keras.preprocessing.text import Tokenizer\n",
    "from keras.preprocessing.sequence import pad_sequences\n",
    "\n",
    "from sklearn.feature_extraction.text import TfidfVectorizer\n",
    "from sklearn.metrics import roc_curve\n",
    "from sklearn.metrics import roc_auc_score\n",
    "\n",
    "from tensorflow.keras import layers\n",
    "from keras.layers import Embedding, LSTM, Dense, Dropout, SpatialDropout1D\n",
    "\n",
    "from keras.initializers import Constant\n",
    "from keras.models import Sequential\n",
    "from tensorflow.keras.optimizers import Adam"
   ]
  },
  {
   "cell_type": "code",
   "execution_count": 3,
   "id": "2c832514",
   "metadata": {},
   "outputs": [],
   "source": [
    "from sklearn.model_selection import train_test_split\n",
    "from sklearn.linear_model import LogisticRegression\n",
    "from sklearn.preprocessing import StandardScaler\n",
    "from sklearn.metrics import confusion_matrix, accuracy_score, recall_score, precision_score, f1_score\n",
    "from sklearn.model_selection import GridSearchCV\n",
    "\n",
    "import warnings"
   ]
  },
  {
   "cell_type": "code",
   "execution_count": 4,
   "id": "a9992dc5",
   "metadata": {},
   "outputs": [],
   "source": [
    "from IPython.display import HTML\n",
    "def pretty_print_df(value_counts_):\n",
    "    \"Quick function to display value counts more nicely\"\n",
    "    display(HTML(pd.DataFrame(value_counts_).to_html()))"
   ]
  },
  {
   "cell_type": "code",
   "execution_count": 5,
   "id": "a91096cd",
   "metadata": {},
   "outputs": [],
   "source": [
    "plt.style.use(style=\"seaborn\")\n",
    "%matplotlib inline"
   ]
  },
  {
   "cell_type": "markdown",
   "id": "9b2879f2",
   "metadata": {},
   "source": [
    "# Data Importing"
   ]
  },
  {
   "cell_type": "code",
   "execution_count": 6,
   "id": "3867e84e",
   "metadata": {},
   "outputs": [],
   "source": [
    "reviews = pd.read_csv('amazon_reviews/processed_reviews_split_surnamesK_minimal.csv')"
   ]
  },
  {
   "cell_type": "code",
   "execution_count": 7,
   "id": "bddbcaa4",
   "metadata": {},
   "outputs": [
    {
     "data": {
      "text/html": [
       "<div>\n",
       "<style scoped>\n",
       "    .dataframe tbody tr th:only-of-type {\n",
       "        vertical-align: middle;\n",
       "    }\n",
       "\n",
       "    .dataframe tbody tr th {\n",
       "        vertical-align: top;\n",
       "    }\n",
       "\n",
       "    .dataframe thead th {\n",
       "        text-align: right;\n",
       "    }\n",
       "</style>\n",
       "<table border=\"1\" class=\"dataframe\">\n",
       "  <thead>\n",
       "    <tr style=\"text-align: right;\">\n",
       "      <th></th>\n",
       "      <th>review_score</th>\n",
       "    </tr>\n",
       "  </thead>\n",
       "  <tbody>\n",
       "    <tr>\n",
       "      <th>count</th>\n",
       "      <td>32918.000000</td>\n",
       "    </tr>\n",
       "    <tr>\n",
       "      <th>mean</th>\n",
       "      <td>4.089222</td>\n",
       "    </tr>\n",
       "    <tr>\n",
       "      <th>std</th>\n",
       "      <td>1.433766</td>\n",
       "    </tr>\n",
       "    <tr>\n",
       "      <th>min</th>\n",
       "      <td>-1.000000</td>\n",
       "    </tr>\n",
       "    <tr>\n",
       "      <th>25%</th>\n",
       "      <td>4.000000</td>\n",
       "    </tr>\n",
       "    <tr>\n",
       "      <th>50%</th>\n",
       "      <td>5.000000</td>\n",
       "    </tr>\n",
       "    <tr>\n",
       "      <th>75%</th>\n",
       "      <td>5.000000</td>\n",
       "    </tr>\n",
       "    <tr>\n",
       "      <th>max</th>\n",
       "      <td>5.000000</td>\n",
       "    </tr>\n",
       "  </tbody>\n",
       "</table>\n",
       "</div>"
      ],
      "text/plain": [
       "       review_score\n",
       "count  32918.000000\n",
       "mean       4.089222\n",
       "std        1.433766\n",
       "min       -1.000000\n",
       "25%        4.000000\n",
       "50%        5.000000\n",
       "75%        5.000000\n",
       "max        5.000000"
      ]
     },
     "execution_count": 7,
     "metadata": {},
     "output_type": "execute_result"
    }
   ],
   "source": [
    "reviews.describe()"
   ]
  },
  {
   "cell_type": "code",
   "execution_count": 8,
   "id": "49c81137",
   "metadata": {},
   "outputs": [
    {
     "data": {
      "text/html": [
       "<div>\n",
       "<style scoped>\n",
       "    .dataframe tbody tr th:only-of-type {\n",
       "        vertical-align: middle;\n",
       "    }\n",
       "\n",
       "    .dataframe tbody tr th {\n",
       "        vertical-align: top;\n",
       "    }\n",
       "\n",
       "    .dataframe thead th {\n",
       "        text-align: right;\n",
       "    }\n",
       "</style>\n",
       "<table border=\"1\" class=\"dataframe\">\n",
       "  <thead>\n",
       "    <tr style=\"text-align: right;\">\n",
       "      <th></th>\n",
       "      <th>review_id</th>\n",
       "      <th>text</th>\n",
       "      <th>verified</th>\n",
       "      <th>review_score</th>\n",
       "      <th>product_category</th>\n",
       "    </tr>\n",
       "  </thead>\n",
       "  <tbody>\n",
       "    <tr>\n",
       "      <th>0</th>\n",
       "      <td>product_review_000000</td>\n",
       "      <td>Though this game is still very good, it's can'...</td>\n",
       "      <td>False</td>\n",
       "      <td>3.0</td>\n",
       "      <td>video_games</td>\n",
       "    </tr>\n",
       "    <tr>\n",
       "      <th>1</th>\n",
       "      <td>product_review_000001</td>\n",
       "      <td>best game everust like being on the field.  th...</td>\n",
       "      <td>True</td>\n",
       "      <td>5.0</td>\n",
       "      <td>video_games</td>\n",
       "    </tr>\n",
       "    <tr>\n",
       "      <th>2</th>\n",
       "      <td>product_review_000002</td>\n",
       "      <td>Battlefield One is a great game, it offers a l...</td>\n",
       "      <td>True</td>\n",
       "      <td>-1.0</td>\n",
       "      <td>video_games</td>\n",
       "    </tr>\n",
       "    <tr>\n",
       "      <th>3</th>\n",
       "      <td>product_review_000003</td>\n",
       "      <td>No doubt there will be improvements in portabl...</td>\n",
       "      <td>False</td>\n",
       "      <td>5.0</td>\n",
       "      <td>NaN</td>\n",
       "    </tr>\n",
       "    <tr>\n",
       "      <th>4</th>\n",
       "      <td>product_review_000004</td>\n",
       "      <td>This is my first Animal Crossing game so go ea...</td>\n",
       "      <td>False</td>\n",
       "      <td>4.0</td>\n",
       "      <td>video_games</td>\n",
       "    </tr>\n",
       "  </tbody>\n",
       "</table>\n",
       "</div>"
      ],
      "text/plain": [
       "               review_id                                               text  \\\n",
       "0  product_review_000000  Though this game is still very good, it's can'...   \n",
       "1  product_review_000001  best game everust like being on the field.  th...   \n",
       "2  product_review_000002  Battlefield One is a great game, it offers a l...   \n",
       "3  product_review_000003  No doubt there will be improvements in portabl...   \n",
       "4  product_review_000004  This is my first Animal Crossing game so go ea...   \n",
       "\n",
       "  verified  review_score product_category  \n",
       "0    False           3.0      video_games  \n",
       "1     True           5.0      video_games  \n",
       "2     True          -1.0      video_games  \n",
       "3    False           5.0              NaN  \n",
       "4    False           4.0      video_games  "
      ]
     },
     "execution_count": 8,
     "metadata": {},
     "output_type": "execute_result"
    }
   ],
   "source": [
    "reviews.head()"
   ]
  },
  {
   "cell_type": "markdown",
   "id": "21328043",
   "metadata": {},
   "source": [
    "# Preprocessing"
   ]
  },
  {
   "cell_type": "markdown",
   "id": "b5cec0c7",
   "metadata": {},
   "source": [
    "Review ID cleaning"
   ]
  },
  {
   "cell_type": "code",
   "execution_count": 9,
   "id": "84f3800a",
   "metadata": {},
   "outputs": [],
   "source": [
    "reviews['review_id'] = reviews['review_id'].str[15:] #Run only once\n",
    "reviews = reviews.astype({'review_id': int})"
   ]
  },
  {
   "cell_type": "markdown",
   "id": "1682ed9c",
   "metadata": {},
   "source": [
    "Checking for duplicates"
   ]
  },
  {
   "cell_type": "code",
   "execution_count": 10,
   "id": "798a32d5",
   "metadata": {},
   "outputs": [
    {
     "name": "stdout",
     "output_type": "stream",
     "text": [
      "Number of duplicates: 0\n"
     ]
    }
   ],
   "source": [
    "dup = reviews.duplicated()\n",
    "c = 0\n",
    "for i in range (0,len(dup)):\n",
    "    if dup[i] == True:\n",
    "        c=c+1\n",
    "print('Number of duplicates:',c)"
   ]
  },
  {
   "cell_type": "markdown",
   "id": "89d08de0",
   "metadata": {},
   "source": [
    "Checking for & Removing Nulls"
   ]
  },
  {
   "cell_type": "code",
   "execution_count": 11,
   "id": "e7895b0f",
   "metadata": {},
   "outputs": [
    {
     "data": {
      "text/plain": [
       "True"
      ]
     },
     "execution_count": 11,
     "metadata": {},
     "output_type": "execute_result"
    }
   ],
   "source": [
    "reviews.isnull().values.any() #Check if there is nulls"
   ]
  },
  {
   "cell_type": "code",
   "execution_count": 12,
   "id": "6ad3e1aa",
   "metadata": {},
   "outputs": [
    {
     "data": {
      "text/plain": [
       "review_id             0\n",
       "text                 11\n",
       "verified            120\n",
       "review_score          0\n",
       "product_category    906\n",
       "dtype: int64"
      ]
     },
     "execution_count": 12,
     "metadata": {},
     "output_type": "execute_result"
    }
   ],
   "source": [
    "reviews.isnull().sum() # Check where the nulls occur"
   ]
  },
  {
   "cell_type": "code",
   "execution_count": 13,
   "id": "25fe02b7",
   "metadata": {},
   "outputs": [],
   "source": [
    "reviews = reviews.dropna(subset=[\"text\"])\n",
    "reviews = reviews.dropna(subset=['product_category'])"
   ]
  },
  {
   "cell_type": "code",
   "execution_count": 14,
   "id": "fbf29c8f",
   "metadata": {},
   "outputs": [
    {
     "data": {
      "text/plain": [
       "review_id             0\n",
       "text                  0\n",
       "verified            113\n",
       "review_score          0\n",
       "product_category      0\n",
       "dtype: int64"
      ]
     },
     "execution_count": 14,
     "metadata": {},
     "output_type": "execute_result"
    }
   ],
   "source": [
    "reviews.isnull().sum() # Double Checking"
   ]
  },
  {
   "cell_type": "markdown",
   "id": "2bf8ad46",
   "metadata": {},
   "source": [
    "Removing the -1 review_score rows"
   ]
  },
  {
   "cell_type": "code",
   "execution_count": 15,
   "id": "d306d806",
   "metadata": {},
   "outputs": [],
   "source": [
    "reviews.drop(reviews[reviews.review_score == -1].index, inplace=True)\n",
    "reviews.reset_index(drop=True, inplace=True)"
   ]
  },
  {
   "cell_type": "code",
   "execution_count": 16,
   "id": "dbe0c8e2",
   "metadata": {},
   "outputs": [
    {
     "data": {
      "text/html": [
       "<div>\n",
       "<style scoped>\n",
       "    .dataframe tbody tr th:only-of-type {\n",
       "        vertical-align: middle;\n",
       "    }\n",
       "\n",
       "    .dataframe tbody tr th {\n",
       "        vertical-align: top;\n",
       "    }\n",
       "\n",
       "    .dataframe thead th {\n",
       "        text-align: right;\n",
       "    }\n",
       "</style>\n",
       "<table border=\"1\" class=\"dataframe\">\n",
       "  <thead>\n",
       "    <tr style=\"text-align: right;\">\n",
       "      <th></th>\n",
       "      <th>review_id</th>\n",
       "      <th>review_score</th>\n",
       "    </tr>\n",
       "  </thead>\n",
       "  <tbody>\n",
       "    <tr>\n",
       "      <th>count</th>\n",
       "      <td>31095.000000</td>\n",
       "      <td>31095.000000</td>\n",
       "    </tr>\n",
       "    <tr>\n",
       "      <th>mean</th>\n",
       "      <td>16468.950571</td>\n",
       "      <td>4.232771</td>\n",
       "    </tr>\n",
       "    <tr>\n",
       "      <th>std</th>\n",
       "      <td>9500.909519</td>\n",
       "      <td>1.166650</td>\n",
       "    </tr>\n",
       "    <tr>\n",
       "      <th>min</th>\n",
       "      <td>0.000000</td>\n",
       "      <td>1.000000</td>\n",
       "    </tr>\n",
       "    <tr>\n",
       "      <th>25%</th>\n",
       "      <td>8250.500000</td>\n",
       "      <td>4.000000</td>\n",
       "    </tr>\n",
       "    <tr>\n",
       "      <th>50%</th>\n",
       "      <td>16463.000000</td>\n",
       "      <td>5.000000</td>\n",
       "    </tr>\n",
       "    <tr>\n",
       "      <th>75%</th>\n",
       "      <td>24691.500000</td>\n",
       "      <td>5.000000</td>\n",
       "    </tr>\n",
       "    <tr>\n",
       "      <th>max</th>\n",
       "      <td>32917.000000</td>\n",
       "      <td>5.000000</td>\n",
       "    </tr>\n",
       "  </tbody>\n",
       "</table>\n",
       "</div>"
      ],
      "text/plain": [
       "          review_id  review_score\n",
       "count  31095.000000  31095.000000\n",
       "mean   16468.950571      4.232771\n",
       "std     9500.909519      1.166650\n",
       "min        0.000000      1.000000\n",
       "25%     8250.500000      4.000000\n",
       "50%    16463.000000      5.000000\n",
       "75%    24691.500000      5.000000\n",
       "max    32917.000000      5.000000"
      ]
     },
     "execution_count": 16,
     "metadata": {},
     "output_type": "execute_result"
    }
   ],
   "source": [
    "reviews.describe()"
   ]
  },
  {
   "cell_type": "markdown",
   "id": "8b4826c8",
   "metadata": {},
   "source": [
    "Text & Category columns -> String"
   ]
  },
  {
   "cell_type": "code",
   "execution_count": 17,
   "id": "83e94711",
   "metadata": {},
   "outputs": [],
   "source": [
    "reviews = reviews.astype({'text': str})\n",
    "reviews = reviews.astype({'product_category': str})"
   ]
  },
  {
   "cell_type": "markdown",
   "id": "26abf286",
   "metadata": {},
   "source": [
    "Defining Text Cleaning Functions"
   ]
  },
  {
   "cell_type": "code",
   "execution_count": 18,
   "id": "7cc38b71",
   "metadata": {},
   "outputs": [],
   "source": [
    "# URL & HTML Removal\n",
    "def remove_URL(text):\n",
    "    url = re.compile(r\"https?://\\S+|www\\.\\S+\")\n",
    "    return url.sub(r\"\", text)\n",
    "\n",
    "def remove_html(text):\n",
    "    html = re.compile(r\"<.*?>\")\n",
    "    return html.sub(r\"\", text)"
   ]
  },
  {
   "cell_type": "code",
   "execution_count": 19,
   "id": "c40cc5ad",
   "metadata": {},
   "outputs": [],
   "source": [
    "# Punctuation Removal\n",
    "def remove_punct(text):\n",
    "    table = str.maketrans(\"\", \"\", string.punctuation)\n",
    "    return text.translate(table)"
   ]
  },
  {
   "cell_type": "code",
   "execution_count": 20,
   "id": "eaf977e8",
   "metadata": {},
   "outputs": [],
   "source": [
    "#Stopwords Removal\n",
    "stop = set(stopwords.words(\"english\"))\n",
    "def remove_stopwords(text):\n",
    "    text = [word.lower() for word in text.split() if word.lower() not in stop]\n",
    "\n",
    "    return \" \".join(text)"
   ]
  },
  {
   "cell_type": "markdown",
   "id": "c533e50d",
   "metadata": {},
   "source": [
    "Applying functions to data"
   ]
  },
  {
   "cell_type": "code",
   "execution_count": 21,
   "id": "4d11b6a9",
   "metadata": {},
   "outputs": [],
   "source": [
    "reviews[\"text\"] = reviews.text.map(lambda x: remove_URL(x))\n",
    "reviews[\"text\"] = reviews.text.map(lambda x: remove_html(x))\n",
    "reviews[\"text\"] = reviews.text.map(lambda x: remove_punct(x))\n",
    "reviews[\"text\"] = reviews[\"text\"].map(remove_stopwords)\n",
    "reviews['text'] = reviews['text'].apply(lambda x: nltk.WordNetLemmatizer().lemmatize(x)) # Lemmatizing JIC"
   ]
  },
  {
   "cell_type": "code",
   "execution_count": 22,
   "id": "affce7e8",
   "metadata": {},
   "outputs": [
    {
     "data": {
      "text/html": [
       "<div>\n",
       "<style scoped>\n",
       "    .dataframe tbody tr th:only-of-type {\n",
       "        vertical-align: middle;\n",
       "    }\n",
       "\n",
       "    .dataframe tbody tr th {\n",
       "        vertical-align: top;\n",
       "    }\n",
       "\n",
       "    .dataframe thead th {\n",
       "        text-align: right;\n",
       "    }\n",
       "</style>\n",
       "<table border=\"1\" class=\"dataframe\">\n",
       "  <thead>\n",
       "    <tr style=\"text-align: right;\">\n",
       "      <th></th>\n",
       "      <th>review_id</th>\n",
       "      <th>text</th>\n",
       "      <th>verified</th>\n",
       "      <th>review_score</th>\n",
       "      <th>product_category</th>\n",
       "    </tr>\n",
       "  </thead>\n",
       "  <tbody>\n",
       "    <tr>\n",
       "      <th>0</th>\n",
       "      <td>0</td>\n",
       "      <td>though game still good cant compete curse monk...</td>\n",
       "      <td>False</td>\n",
       "      <td>3.0</td>\n",
       "      <td>video_games</td>\n",
       "    </tr>\n",
       "    <tr>\n",
       "      <th>1</th>\n",
       "      <td>1</td>\n",
       "      <td>best game everust like field pitchin hiting ba...</td>\n",
       "      <td>True</td>\n",
       "      <td>5.0</td>\n",
       "      <td>video_games</td>\n",
       "    </tr>\n",
       "    <tr>\n",
       "      <th>2</th>\n",
       "      <td>4</td>\n",
       "      <td>first animal crossing game go easy game cute e...</td>\n",
       "      <td>False</td>\n",
       "      <td>4.0</td>\n",
       "      <td>video_games</td>\n",
       "    </tr>\n",
       "    <tr>\n",
       "      <th>3</th>\n",
       "      <td>5</td>\n",
       "      <td>cute mic us working musicians need cute need s...</td>\n",
       "      <td>True</td>\n",
       "      <td>3.0</td>\n",
       "      <td>musical_instruments</td>\n",
       "    </tr>\n",
       "    <tr>\n",
       "      <th>4</th>\n",
       "      <td>6</td>\n",
       "      <td>fian fantasy 9 go best one series far graphics...</td>\n",
       "      <td>False</td>\n",
       "      <td>4.0</td>\n",
       "      <td>video_games</td>\n",
       "    </tr>\n",
       "  </tbody>\n",
       "</table>\n",
       "</div>"
      ],
      "text/plain": [
       "   review_id                                               text verified  \\\n",
       "0          0  though game still good cant compete curse monk...    False   \n",
       "1          1  best game everust like field pitchin hiting ba...     True   \n",
       "2          4  first animal crossing game go easy game cute e...    False   \n",
       "3          5  cute mic us working musicians need cute need s...     True   \n",
       "4          6  fian fantasy 9 go best one series far graphics...    False   \n",
       "\n",
       "   review_score     product_category  \n",
       "0           3.0          video_games  \n",
       "1           5.0          video_games  \n",
       "2           4.0          video_games  \n",
       "3           3.0  musical_instruments  \n",
       "4           4.0          video_games  "
      ]
     },
     "execution_count": 22,
     "metadata": {},
     "output_type": "execute_result"
    }
   ],
   "source": [
    "reviews.head()"
   ]
  },
  {
   "cell_type": "markdown",
   "id": "d07359c9",
   "metadata": {},
   "source": [
    "# Data Exploration"
   ]
  },
  {
   "cell_type": "markdown",
   "id": "04871766",
   "metadata": {},
   "source": [
    "Adding exploratory columns"
   ]
  },
  {
   "cell_type": "code",
   "execution_count": 23,
   "id": "53ca67ae",
   "metadata": {},
   "outputs": [],
   "source": [
    "def sentiments(df):\n",
    "    if df['review_score'] > 3.0:\n",
    "        return 'Positive'\n",
    "    elif df['review_score'] < 3.0:\n",
    "        return 'Negative'\n",
    "    else: return 'Neutral'"
   ]
  },
  {
   "cell_type": "code",
   "execution_count": 24,
   "id": "ec60216b",
   "metadata": {},
   "outputs": [],
   "source": [
    "reviews[\"length\"] = reviews.text.map(lambda x: len(x))\n",
    "reviews[\"word_count\"] = reviews.text.str.split().map(lambda x: len(x))\n",
    "reviews['sentiment'] = reviews.apply(sentiments, axis=1)"
   ]
  },
  {
   "cell_type": "code",
   "execution_count": 25,
   "id": "12c4dd29",
   "metadata": {},
   "outputs": [
    {
     "data": {
      "text/html": [
       "<div>\n",
       "<style scoped>\n",
       "    .dataframe tbody tr th:only-of-type {\n",
       "        vertical-align: middle;\n",
       "    }\n",
       "\n",
       "    .dataframe tbody tr th {\n",
       "        vertical-align: top;\n",
       "    }\n",
       "\n",
       "    .dataframe thead th {\n",
       "        text-align: right;\n",
       "    }\n",
       "</style>\n",
       "<table border=\"1\" class=\"dataframe\">\n",
       "  <thead>\n",
       "    <tr style=\"text-align: right;\">\n",
       "      <th></th>\n",
       "      <th>review_id</th>\n",
       "      <th>review_score</th>\n",
       "      <th>length</th>\n",
       "      <th>word_count</th>\n",
       "    </tr>\n",
       "  </thead>\n",
       "  <tbody>\n",
       "    <tr>\n",
       "      <th>count</th>\n",
       "      <td>31095.000000</td>\n",
       "      <td>31095.000000</td>\n",
       "      <td>31095.000000</td>\n",
       "      <td>31095.000000</td>\n",
       "    </tr>\n",
       "    <tr>\n",
       "      <th>mean</th>\n",
       "      <td>16468.950571</td>\n",
       "      <td>4.232771</td>\n",
       "      <td>401.171796</td>\n",
       "      <td>60.898054</td>\n",
       "    </tr>\n",
       "    <tr>\n",
       "      <th>std</th>\n",
       "      <td>9500.909519</td>\n",
       "      <td>1.166650</td>\n",
       "      <td>709.990398</td>\n",
       "      <td>105.036156</td>\n",
       "    </tr>\n",
       "    <tr>\n",
       "      <th>min</th>\n",
       "      <td>0.000000</td>\n",
       "      <td>1.000000</td>\n",
       "      <td>0.000000</td>\n",
       "      <td>0.000000</td>\n",
       "    </tr>\n",
       "    <tr>\n",
       "      <th>25%</th>\n",
       "      <td>8250.500000</td>\n",
       "      <td>4.000000</td>\n",
       "      <td>69.000000</td>\n",
       "      <td>11.000000</td>\n",
       "    </tr>\n",
       "    <tr>\n",
       "      <th>50%</th>\n",
       "      <td>16463.000000</td>\n",
       "      <td>5.000000</td>\n",
       "      <td>162.000000</td>\n",
       "      <td>25.000000</td>\n",
       "    </tr>\n",
       "    <tr>\n",
       "      <th>75%</th>\n",
       "      <td>24691.500000</td>\n",
       "      <td>5.000000</td>\n",
       "      <td>415.000000</td>\n",
       "      <td>64.000000</td>\n",
       "    </tr>\n",
       "    <tr>\n",
       "      <th>max</th>\n",
       "      <td>32917.000000</td>\n",
       "      <td>5.000000</td>\n",
       "      <td>19197.000000</td>\n",
       "      <td>2796.000000</td>\n",
       "    </tr>\n",
       "  </tbody>\n",
       "</table>\n",
       "</div>"
      ],
      "text/plain": [
       "          review_id  review_score        length    word_count\n",
       "count  31095.000000  31095.000000  31095.000000  31095.000000\n",
       "mean   16468.950571      4.232771    401.171796     60.898054\n",
       "std     9500.909519      1.166650    709.990398    105.036156\n",
       "min        0.000000      1.000000      0.000000      0.000000\n",
       "25%     8250.500000      4.000000     69.000000     11.000000\n",
       "50%    16463.000000      5.000000    162.000000     25.000000\n",
       "75%    24691.500000      5.000000    415.000000     64.000000\n",
       "max    32917.000000      5.000000  19197.000000   2796.000000"
      ]
     },
     "execution_count": 25,
     "metadata": {},
     "output_type": "execute_result"
    }
   ],
   "source": [
    "reviews.describe()"
   ]
  },
  {
   "cell_type": "markdown",
   "id": "319a0f29",
   "metadata": {},
   "source": [
    "Category Check"
   ]
  },
  {
   "cell_type": "code",
   "execution_count": 26,
   "id": "d35d9a4f",
   "metadata": {},
   "outputs": [],
   "source": [
    "vg = reviews.loc[reviews['product_category'] == 'video_games']\n",
    "m = reviews.loc[reviews['product_category'] == 'musical_instruments']"
   ]
  },
  {
   "cell_type": "code",
   "execution_count": 27,
   "id": "51246faa",
   "metadata": {},
   "outputs": [
    {
     "data": {
      "text/html": [
       "<table border=\"1\" class=\"dataframe\">\n",
       "  <thead>\n",
       "    <tr style=\"text-align: right;\">\n",
       "      <th></th>\n",
       "      <th>review_score</th>\n",
       "    </tr>\n",
       "  </thead>\n",
       "  <tbody>\n",
       "    <tr>\n",
       "      <th>5.0</th>\n",
       "      <td>18711</td>\n",
       "    </tr>\n",
       "    <tr>\n",
       "      <th>4.0</th>\n",
       "      <td>6019</td>\n",
       "    </tr>\n",
       "    <tr>\n",
       "      <th>3.0</th>\n",
       "      <td>3060</td>\n",
       "    </tr>\n",
       "    <tr>\n",
       "      <th>1.0</th>\n",
       "      <td>1803</td>\n",
       "    </tr>\n",
       "    <tr>\n",
       "      <th>2.0</th>\n",
       "      <td>1502</td>\n",
       "    </tr>\n",
       "  </tbody>\n",
       "</table>"
      ],
      "text/plain": [
       "<IPython.core.display.HTML object>"
      ]
     },
     "metadata": {},
     "output_type": "display_data"
    }
   ],
   "source": [
    "stars = reviews['review_score'].value_counts()\n",
    "pretty_print_df(stars)"
   ]
  },
  {
   "cell_type": "code",
   "execution_count": 28,
   "id": "c5506971",
   "metadata": {},
   "outputs": [
    {
     "data": {
      "image/png": "[encoded data removed]",
      "text/plain": [
       "<Figure size 1800x504 with 1 Axes>"
      ]
     },
     "metadata": {
      "needs_background": "light"
     },
     "output_type": "display_data"
    }
   ],
   "source": [
    "plt.figure(1, figsize=(25, 7))\n",
    "plt.subplot(1, 2, 1)\n",
    "_ = plt.bar([\"1 Star\", \"2 Stars\", \"3 Stars\", \"4 Stars\", \"5 Stars\"], [stars[1],stars[2],stars[3],stars[4],stars[5]])\n",
    "plt.savefig('Star Distribution.pdf')\n",
    "plt.show()"
   ]
  },
  {
   "cell_type": "code",
   "execution_count": 29,
   "id": "2dc8aba4",
   "metadata": {},
   "outputs": [
    {
     "data": {
      "text/html": [
       "<table border=\"1\" class=\"dataframe\">\n",
       "  <thead>\n",
       "    <tr style=\"text-align: right;\">\n",
       "      <th></th>\n",
       "      <th>product_category</th>\n",
       "    </tr>\n",
       "  </thead>\n",
       "  <tbody>\n",
       "    <tr>\n",
       "      <th>video_games</th>\n",
       "      <td>21127</td>\n",
       "    </tr>\n",
       "    <tr>\n",
       "      <th>musical_instruments</th>\n",
       "      <td>9968</td>\n",
       "    </tr>\n",
       "  </tbody>\n",
       "</table>"
      ],
      "text/plain": [
       "<IPython.core.display.HTML object>"
      ]
     },
     "metadata": {},
     "output_type": "display_data"
    }
   ],
   "source": [
    "pretty_print_df(reviews['product_category'].value_counts())"
   ]
  },
  {
   "cell_type": "code",
   "execution_count": 30,
   "id": "6b7482f6",
   "metadata": {},
   "outputs": [
    {
     "data": {
      "image/png": "[encoded data removed]",
      "text/plain": [
       "<Figure size 1080x504 with 1 Axes>"
      ]
     },
     "metadata": {
      "needs_background": "light"
     },
     "output_type": "display_data"
    }
   ],
   "source": [
    "Video_Games = vg.shape[0]\n",
    "Musical_Instruments = m.shape[0]\n",
    "\n",
    "plt.figure(1, figsize=(15, 7))\n",
    "plt.subplot(1, 2, 1)\n",
    "_ = plt.bar([\"Video Games\", \"Musical Instruments\"], [Video_Games, Musical_Instruments])\n",
    "plt.savefig('Category Distribution.pdf')\n",
    "plt.show()"
   ]
  },
  {
   "cell_type": "code",
   "execution_count": 31,
   "id": "834998e2",
   "metadata": {},
   "outputs": [
    {
     "data": {
      "text/plain": [
       "good            8\n",
       "work            7\n",
       "great           7\n",
       "love            6\n",
       "ok              5\n",
       "good product    5\n",
       "best            5\n",
       "                4\n",
       "works great     4\n",
       "happy           4\n",
       "Name: text, dtype: int64"
      ]
     },
     "execution_count": 31,
     "metadata": {},
     "output_type": "execute_result"
    }
   ],
   "source": [
    "m.text.value_counts()[:10]"
   ]
  },
  {
   "cell_type": "code",
   "execution_count": 32,
   "id": "845fe3d2",
   "metadata": {},
   "outputs": [
    {
     "data": {
      "text/plain": [
       "good         15\n",
       "love         12\n",
       "great        10\n",
       "good game    10\n",
       "like          9\n",
       "              8\n",
       "expected      7\n",
       "love game     7\n",
       "ok            6\n",
       "excellent     6\n",
       "Name: text, dtype: int64"
      ]
     },
     "execution_count": 32,
     "metadata": {},
     "output_type": "execute_result"
    }
   ],
   "source": [
    "vg.text.value_counts()[:10]"
   ]
  },
  {
   "cell_type": "markdown",
   "id": "1e39d67f",
   "metadata": {},
   "source": [
    "Sentiments for each product category"
   ]
  },
  {
   "cell_type": "code",
   "execution_count": 33,
   "id": "6aec7e81",
   "metadata": {},
   "outputs": [
    {
     "data": {
      "image/png": "[encoded data removed]",
      "text/plain": [
       "<Figure size 1080x504 with 1 Axes>"
      ]
     },
     "metadata": {
      "needs_background": "light"
     },
     "output_type": "display_data"
    }
   ],
   "source": [
    "# All\n",
    "x = reviews.loc[reviews['sentiment'] == 'Positive']\n",
    "y = reviews.loc[reviews['sentiment'] == 'Negative']\n",
    "z = reviews.loc[reviews['sentiment'] == 'Neutral']\n",
    "\n",
    "plt.figure(1, figsize=(15, 7))\n",
    "plt.subplot(1, 2, 1)\n",
    "_ = plt.bar([\"Positive\", \"Neutral\" ,\"Negative\"], [x.shape[0],z.shape[0],y.shape[0]])\n",
    "plt.savefig('Sentiment Distribution.pdf')\n",
    "plt.show()"
   ]
  },
  {
   "cell_type": "code",
   "execution_count": 34,
   "id": "5ca37bae",
   "metadata": {},
   "outputs": [
    {
     "data": {
      "image/png": "[encoded data removed]",
      "text/plain": [
       "<Figure size 1080x504 with 1 Axes>"
      ]
     },
     "metadata": {
      "needs_background": "light"
     },
     "output_type": "display_data"
    }
   ],
   "source": [
    "# Video Games\n",
    "x = vg.loc[vg['sentiment'] == 'Positive']\n",
    "y = vg.loc[vg['sentiment'] == 'Negative']\n",
    "z = vg.loc[vg['sentiment'] == 'Neutral']\n",
    "\n",
    "plt.figure(1, figsize=(15, 7))\n",
    "plt.subplot(1, 2, 1)\n",
    "_ = plt.bar([\"Positive\", \"Neutral\" ,\"Negative\"], [x.shape[0],z.shape[0],y.shape[0]])\n",
    "plt.savefig('Sentiment across vg.pdf')\n",
    "plt.show()"
   ]
  },
  {
   "cell_type": "code",
   "execution_count": 35,
   "id": "b264021f",
   "metadata": {},
   "outputs": [
    {
     "data": {
      "image/png": "[encoded data removed]",
      "text/plain": [
       "<Figure size 1080x504 with 1 Axes>"
      ]
     },
     "metadata": {
      "needs_background": "light"
     },
     "output_type": "display_data"
    }
   ],
   "source": [
    "# Musical Instruments\n",
    "x = m.loc[m['sentiment'] == 'Positive']\n",
    "y = m.loc[m['sentiment'] == 'Negative']\n",
    "z = m.loc[m['sentiment'] == 'Neutral']\n",
    "\n",
    "plt.figure(1, figsize=(15, 7))\n",
    "plt.subplot(1, 2, 1)\n",
    "_ = plt.bar([\"Positive\", \"Neutral\" ,\"Negative\"], [x.shape[0],z.shape[0],y.shape[0]])\n",
    "plt.savefig('Sentiment across music.pdf')\n",
    "plt.show()"
   ]
  },
  {
   "cell_type": "markdown",
   "id": "3e9b2292",
   "metadata": {},
   "source": [
    "Lengths exploration"
   ]
  },
  {
   "cell_type": "code",
   "execution_count": 36,
   "id": "1501b33f",
   "metadata": {},
   "outputs": [
    {
     "data": {
      "image/png": "[encoded data removed]",
      "text/plain": [
       "<Figure size 1080x360 with 1 Axes>"
      ]
     },
     "metadata": {
      "needs_background": "light"
     },
     "output_type": "display_data"
    }
   ],
   "source": [
    "plt.figure(1, figsize=(15, 5))\n",
    "plt.subplot(1, 1, 1)\n",
    "plt.hist(vg['length'], color=\"blue\", bins=15)\n",
    "plt.hist(m['length'], color=\"red\", bins=15)\n",
    "plt.xlabel('Text Length', fontsize=20)\n",
    "plt.ylabel('Text Count', fontsize=20)\n",
    "plt.xticks(fontsize=15)\n",
    "plt.yticks(fontsize=15)\n",
    "plt.legend(['Video Games','Music Instruments'], fontsize=15)\n",
    "plt.savefig('Text length histogram.pdf')\n",
    "plt.show()"
   ]
  },
  {
   "cell_type": "markdown",
   "id": "d9dfe68d",
   "metadata": {},
   "source": [
    "Visualising the number of words in each document in a histogram"
   ]
  },
  {
   "cell_type": "code",
   "execution_count": 37,
   "id": "5d6b4f33",
   "metadata": {},
   "outputs": [
    {
     "data": {
      "image/png": "[encoded data removed]",
      "text/plain": [
       "<Figure size 1224x504 with 1 Axes>"
      ]
     },
     "metadata": {
      "needs_background": "light"
     },
     "output_type": "display_data"
    }
   ],
   "source": [
    "plt.figure(1, figsize=(17, 7))\n",
    "plt.subplot(1, 1, 1)\n",
    "plt.hist(vg['word_count'], color=\"blue\", bins=15)\n",
    "plt.hist(m['word_count'], color=\"red\", bins=15)\n",
    "plt.xlabel('Words', fontsize=20)\n",
    "plt.ylabel('Text Count', fontsize=20)\n",
    "plt.xticks(fontsize=15)\n",
    "plt.yticks(fontsize=15)\n",
    "plt.legend(['Video Games','Music Instruments'], fontsize=15)\n",
    "plt.savefig('Word count histogram.pdf')\n",
    "plt.show()"
   ]
  },
  {
   "cell_type": "code",
   "execution_count": 38,
   "id": "39ee3beb",
   "metadata": {},
   "outputs": [
    {
     "name": "stdout",
     "output_type": "stream",
     "text": [
      "All:\n"
     ]
    },
    {
     "data": {
      "text/html": [
       "<table border=\"1\" class=\"dataframe\">\n",
       "  <thead>\n",
       "    <tr style=\"text-align: right;\">\n",
       "      <th></th>\n",
       "      <th>review_id</th>\n",
       "      <th>review_score</th>\n",
       "      <th>length</th>\n",
       "      <th>word_count</th>\n",
       "    </tr>\n",
       "  </thead>\n",
       "  <tbody>\n",
       "    <tr>\n",
       "      <th>count</th>\n",
       "      <td>31095.000000</td>\n",
       "      <td>31095.000000</td>\n",
       "      <td>31095.000000</td>\n",
       "      <td>31095.000000</td>\n",
       "    </tr>\n",
       "    <tr>\n",
       "      <th>mean</th>\n",
       "      <td>16468.950571</td>\n",
       "      <td>4.232771</td>\n",
       "      <td>401.171796</td>\n",
       "      <td>60.898054</td>\n",
       "    </tr>\n",
       "    <tr>\n",
       "      <th>std</th>\n",
       "      <td>9500.909519</td>\n",
       "      <td>1.166650</td>\n",
       "      <td>709.990398</td>\n",
       "      <td>105.036156</td>\n",
       "    </tr>\n",
       "    <tr>\n",
       "      <th>min</th>\n",
       "      <td>0.000000</td>\n",
       "      <td>1.000000</td>\n",
       "      <td>0.000000</td>\n",
       "      <td>0.000000</td>\n",
       "    </tr>\n",
       "    <tr>\n",
       "      <th>25%</th>\n",
       "      <td>8250.500000</td>\n",
       "      <td>4.000000</td>\n",
       "      <td>69.000000</td>\n",
       "      <td>11.000000</td>\n",
       "    </tr>\n",
       "    <tr>\n",
       "      <th>50%</th>\n",
       "      <td>16463.000000</td>\n",
       "      <td>5.000000</td>\n",
       "      <td>162.000000</td>\n",
       "      <td>25.000000</td>\n",
       "    </tr>\n",
       "    <tr>\n",
       "      <th>75%</th>\n",
       "      <td>24691.500000</td>\n",
       "      <td>5.000000</td>\n",
       "      <td>415.000000</td>\n",
       "      <td>64.000000</td>\n",
       "    </tr>\n",
       "    <tr>\n",
       "      <th>max</th>\n",
       "      <td>32917.000000</td>\n",
       "      <td>5.000000</td>\n",
       "      <td>19197.000000</td>\n",
       "      <td>2796.000000</td>\n",
       "    </tr>\n",
       "  </tbody>\n",
       "</table>"
      ],
      "text/plain": [
       "<IPython.core.display.HTML object>"
      ]
     },
     "metadata": {},
     "output_type": "display_data"
    },
    {
     "name": "stdout",
     "output_type": "stream",
     "text": [
      "Video Games:\n"
     ]
    },
    {
     "data": {
      "text/html": [
       "<table border=\"1\" class=\"dataframe\">\n",
       "  <thead>\n",
       "    <tr style=\"text-align: right;\">\n",
       "      <th></th>\n",
       "      <th>review_id</th>\n",
       "      <th>review_score</th>\n",
       "      <th>length</th>\n",
       "      <th>word_count</th>\n",
       "    </tr>\n",
       "  </thead>\n",
       "  <tbody>\n",
       "    <tr>\n",
       "      <th>count</th>\n",
       "      <td>21127.000000</td>\n",
       "      <td>21127.000000</td>\n",
       "      <td>21127.000000</td>\n",
       "      <td>21127.000000</td>\n",
       "    </tr>\n",
       "    <tr>\n",
       "      <th>mean</th>\n",
       "      <td>16512.998722</td>\n",
       "      <td>4.140342</td>\n",
       "      <td>485.377810</td>\n",
       "      <td>73.545558</td>\n",
       "    </tr>\n",
       "    <tr>\n",
       "      <th>std</th>\n",
       "      <td>9491.616945</td>\n",
       "      <td>1.225747</td>\n",
       "      <td>811.080661</td>\n",
       "      <td>119.910117</td>\n",
       "    </tr>\n",
       "    <tr>\n",
       "      <th>min</th>\n",
       "      <td>0.000000</td>\n",
       "      <td>1.000000</td>\n",
       "      <td>0.000000</td>\n",
       "      <td>0.000000</td>\n",
       "    </tr>\n",
       "    <tr>\n",
       "      <th>25%</th>\n",
       "      <td>8307.000000</td>\n",
       "      <td>4.000000</td>\n",
       "      <td>81.000000</td>\n",
       "      <td>13.000000</td>\n",
       "    </tr>\n",
       "    <tr>\n",
       "      <th>50%</th>\n",
       "      <td>16489.000000</td>\n",
       "      <td>5.000000</td>\n",
       "      <td>195.000000</td>\n",
       "      <td>31.000000</td>\n",
       "    </tr>\n",
       "    <tr>\n",
       "      <th>75%</th>\n",
       "      <td>24715.500000</td>\n",
       "      <td>5.000000</td>\n",
       "      <td>533.000000</td>\n",
       "      <td>81.000000</td>\n",
       "    </tr>\n",
       "    <tr>\n",
       "      <th>max</th>\n",
       "      <td>32916.000000</td>\n",
       "      <td>5.000000</td>\n",
       "      <td>19197.000000</td>\n",
       "      <td>2796.000000</td>\n",
       "    </tr>\n",
       "  </tbody>\n",
       "</table>"
      ],
      "text/plain": [
       "<IPython.core.display.HTML object>"
      ]
     },
     "metadata": {},
     "output_type": "display_data"
    },
    {
     "name": "stdout",
     "output_type": "stream",
     "text": [
      "Music:\n"
     ]
    },
    {
     "data": {
      "text/html": [
       "<table border=\"1\" class=\"dataframe\">\n",
       "  <thead>\n",
       "    <tr style=\"text-align: right;\">\n",
       "      <th></th>\n",
       "      <th>review_id</th>\n",
       "      <th>review_score</th>\n",
       "      <th>length</th>\n",
       "      <th>word_count</th>\n",
       "    </tr>\n",
       "  </thead>\n",
       "  <tbody>\n",
       "    <tr>\n",
       "      <th>count</th>\n",
       "      <td>9968.000000</td>\n",
       "      <td>9968.000000</td>\n",
       "      <td>9968.000000</td>\n",
       "      <td>9968.000000</td>\n",
       "    </tr>\n",
       "    <tr>\n",
       "      <th>mean</th>\n",
       "      <td>16375.591292</td>\n",
       "      <td>4.428672</td>\n",
       "      <td>222.698636</td>\n",
       "      <td>34.091894</td>\n",
       "    </tr>\n",
       "    <tr>\n",
       "      <th>std</th>\n",
       "      <td>9520.377873</td>\n",
       "      <td>1.002519</td>\n",
       "      <td>362.395611</td>\n",
       "      <td>53.704414</td>\n",
       "    </tr>\n",
       "    <tr>\n",
       "      <th>min</th>\n",
       "      <td>5.000000</td>\n",
       "      <td>1.000000</td>\n",
       "      <td>0.000000</td>\n",
       "      <td>0.000000</td>\n",
       "    </tr>\n",
       "    <tr>\n",
       "      <th>25%</th>\n",
       "      <td>8116.500000</td>\n",
       "      <td>4.000000</td>\n",
       "      <td>52.000000</td>\n",
       "      <td>8.000000</td>\n",
       "    </tr>\n",
       "    <tr>\n",
       "      <th>50%</th>\n",
       "      <td>16408.500000</td>\n",
       "      <td>5.000000</td>\n",
       "      <td>121.000000</td>\n",
       "      <td>19.000000</td>\n",
       "    </tr>\n",
       "    <tr>\n",
       "      <th>75%</th>\n",
       "      <td>24640.000000</td>\n",
       "      <td>5.000000</td>\n",
       "      <td>250.000000</td>\n",
       "      <td>39.000000</td>\n",
       "    </tr>\n",
       "    <tr>\n",
       "      <th>max</th>\n",
       "      <td>32917.000000</td>\n",
       "      <td>5.000000</td>\n",
       "      <td>8461.000000</td>\n",
       "      <td>1216.000000</td>\n",
       "    </tr>\n",
       "  </tbody>\n",
       "</table>"
      ],
      "text/plain": [
       "<IPython.core.display.HTML object>"
      ]
     },
     "metadata": {},
     "output_type": "display_data"
    }
   ],
   "source": [
    "#Exploring in numbers\n",
    "print('All:')\n",
    "pretty_print_df(reviews.describe())\n",
    "print('Video Games:')\n",
    "pretty_print_df(vg.describe())\n",
    "print('Music:')\n",
    "pretty_print_df(m.describe())"
   ]
  },
  {
   "cell_type": "markdown",
   "id": "28cd82f3",
   "metadata": {},
   "source": [
    "Wordcloud for the most used words"
   ]
  },
  {
   "cell_type": "code",
   "execution_count": 39,
   "id": "279eba70",
   "metadata": {},
   "outputs": [
    {
     "data": {
      "image/png": "[encoded data removed]",
      "text/plain": [
       "<Figure size 1440x504 with 1 Axes>"
      ]
     },
     "metadata": {
      "needs_background": "light"
     },
     "output_type": "display_data"
    }
   ],
   "source": [
    "plt.figure(1, figsize=(20, 7))\n",
    "common_words=''\n",
    "for i in reviews.text:\n",
    "    i = str(i)\n",
    "    tokens = i.split()\n",
    "    common_words += \" \".join(tokens)+\" \"\n",
    "wordcloud = wordcloud.WordCloud().generate(common_words)\n",
    "plt.imshow(wordcloud, interpolation='bilinear')\n",
    "plt.axis(\"off\")\n",
    "plt.savefig('Wordcloud.pdf')\n",
    "plt.show()"
   ]
  },
  {
   "cell_type": "markdown",
   "id": "bcd3b6e7",
   "metadata": {},
   "source": [
    "Data head"
   ]
  },
  {
   "cell_type": "code",
   "execution_count": 40,
   "id": "3a3ad546",
   "metadata": {},
   "outputs": [
    {
     "data": {
      "text/html": [
       "<div>\n",
       "<style scoped>\n",
       "    .dataframe tbody tr th:only-of-type {\n",
       "        vertical-align: middle;\n",
       "    }\n",
       "\n",
       "    .dataframe tbody tr th {\n",
       "        vertical-align: top;\n",
       "    }\n",
       "\n",
       "    .dataframe thead th {\n",
       "        text-align: right;\n",
       "    }\n",
       "</style>\n",
       "<table border=\"1\" class=\"dataframe\">\n",
       "  <thead>\n",
       "    <tr style=\"text-align: right;\">\n",
       "      <th></th>\n",
       "      <th>review_id</th>\n",
       "      <th>text</th>\n",
       "      <th>verified</th>\n",
       "      <th>review_score</th>\n",
       "      <th>product_category</th>\n",
       "      <th>length</th>\n",
       "      <th>word_count</th>\n",
       "      <th>sentiment</th>\n",
       "    </tr>\n",
       "  </thead>\n",
       "  <tbody>\n",
       "    <tr>\n",
       "      <th>0</th>\n",
       "      <td>0</td>\n",
       "      <td>though game still good cant compete curse monk...</td>\n",
       "      <td>False</td>\n",
       "      <td>3.0</td>\n",
       "      <td>video_games</td>\n",
       "      <td>301</td>\n",
       "      <td>48</td>\n",
       "      <td>Neutral</td>\n",
       "    </tr>\n",
       "    <tr>\n",
       "      <th>1</th>\n",
       "      <td>1</td>\n",
       "      <td>best game everust like field pitchin hiting ba...</td>\n",
       "      <td>True</td>\n",
       "      <td>5.0</td>\n",
       "      <td>video_games</td>\n",
       "      <td>106</td>\n",
       "      <td>16</td>\n",
       "      <td>Positive</td>\n",
       "    </tr>\n",
       "    <tr>\n",
       "      <th>2</th>\n",
       "      <td>4</td>\n",
       "      <td>first animal crossing game go easy game cute e...</td>\n",
       "      <td>False</td>\n",
       "      <td>4.0</td>\n",
       "      <td>video_games</td>\n",
       "      <td>1185</td>\n",
       "      <td>185</td>\n",
       "      <td>Positive</td>\n",
       "    </tr>\n",
       "    <tr>\n",
       "      <th>3</th>\n",
       "      <td>5</td>\n",
       "      <td>cute mic us working musicians need cute need s...</td>\n",
       "      <td>True</td>\n",
       "      <td>3.0</td>\n",
       "      <td>musical_instruments</td>\n",
       "      <td>328</td>\n",
       "      <td>52</td>\n",
       "      <td>Neutral</td>\n",
       "    </tr>\n",
       "    <tr>\n",
       "      <th>4</th>\n",
       "      <td>6</td>\n",
       "      <td>fian fantasy 9 go best one series far graphics...</td>\n",
       "      <td>False</td>\n",
       "      <td>4.0</td>\n",
       "      <td>video_games</td>\n",
       "      <td>273</td>\n",
       "      <td>47</td>\n",
       "      <td>Positive</td>\n",
       "    </tr>\n",
       "  </tbody>\n",
       "</table>\n",
       "</div>"
      ],
      "text/plain": [
       "   review_id                                               text verified  \\\n",
       "0          0  though game still good cant compete curse monk...    False   \n",
       "1          1  best game everust like field pitchin hiting ba...     True   \n",
       "2          4  first animal crossing game go easy game cute e...    False   \n",
       "3          5  cute mic us working musicians need cute need s...     True   \n",
       "4          6  fian fantasy 9 go best one series far graphics...    False   \n",
       "\n",
       "   review_score     product_category  length  word_count sentiment  \n",
       "0           3.0          video_games     301          48   Neutral  \n",
       "1           5.0          video_games     106          16  Positive  \n",
       "2           4.0          video_games    1185         185  Positive  \n",
       "3           3.0  musical_instruments     328          52   Neutral  \n",
       "4           4.0          video_games     273          47  Positive  "
      ]
     },
     "execution_count": 40,
     "metadata": {},
     "output_type": "execute_result"
    }
   ],
   "source": [
    "reviews.head()"
   ]
  },
  {
   "cell_type": "markdown",
   "id": "d71f1e8b",
   "metadata": {},
   "source": [
    "# NLP & ML"
   ]
  },
  {
   "cell_type": "markdown",
   "id": "de19bf2b",
   "metadata": {},
   "source": [
    "Encoding Product Categories & Sentiment"
   ]
  },
  {
   "cell_type": "code",
   "execution_count": 41,
   "id": "938d0b7d",
   "metadata": {},
   "outputs": [],
   "source": [
    "# 1 for Video Games, 0 for Musical Instruments\n",
    "le = preprocessing.LabelEncoder()\n",
    "\n",
    "cat = reviews.product_category\n",
    "enc_cat = le.fit_transform(cat)"
   ]
  },
  {
   "cell_type": "code",
   "execution_count": 42,
   "id": "9e7662d8",
   "metadata": {},
   "outputs": [],
   "source": [
    "# 2 for Positive (4 & 5 Stars), 1 for Neutral (3 Stars) ,0 for Negative (1 & 2 Stars)\n",
    "se = preprocessing.LabelEncoder()\n",
    "\n",
    "s = reviews.sentiment\n",
    "enc_s = se.fit_transform(s)\n",
    "\n",
    "### Not used in the end, good for future works."
   ]
  },
  {
   "cell_type": "markdown",
   "id": "b023d3aa",
   "metadata": {},
   "source": [
    "Creating the new ML dataframe"
   ]
  },
  {
   "cell_type": "code",
   "execution_count": 43,
   "id": "0e3b271e",
   "metadata": {},
   "outputs": [
    {
     "data": {
      "text/html": [
       "<div>\n",
       "<style scoped>\n",
       "    .dataframe tbody tr th:only-of-type {\n",
       "        vertical-align: middle;\n",
       "    }\n",
       "\n",
       "    .dataframe tbody tr th {\n",
       "        vertical-align: top;\n",
       "    }\n",
       "\n",
       "    .dataframe thead th {\n",
       "        text-align: right;\n",
       "    }\n",
       "</style>\n",
       "<table border=\"1\" class=\"dataframe\">\n",
       "  <thead>\n",
       "    <tr style=\"text-align: right;\">\n",
       "      <th></th>\n",
       "      <th>Text</th>\n",
       "      <th>Review_Score</th>\n",
       "      <th>product_category</th>\n",
       "      <th>Sentiment</th>\n",
       "    </tr>\n",
       "  </thead>\n",
       "  <tbody>\n",
       "    <tr>\n",
       "      <th>0</th>\n",
       "      <td>though game still good cant compete curse monk...</td>\n",
       "      <td>3.0</td>\n",
       "      <td>1</td>\n",
       "      <td>1</td>\n",
       "    </tr>\n",
       "    <tr>\n",
       "      <th>1</th>\n",
       "      <td>best game everust like field pitchin hiting ba...</td>\n",
       "      <td>5.0</td>\n",
       "      <td>1</td>\n",
       "      <td>2</td>\n",
       "    </tr>\n",
       "    <tr>\n",
       "      <th>2</th>\n",
       "      <td>first animal crossing game go easy game cute e...</td>\n",
       "      <td>4.0</td>\n",
       "      <td>1</td>\n",
       "      <td>2</td>\n",
       "    </tr>\n",
       "    <tr>\n",
       "      <th>3</th>\n",
       "      <td>cute mic us working musicians need cute need s...</td>\n",
       "      <td>3.0</td>\n",
       "      <td>0</td>\n",
       "      <td>1</td>\n",
       "    </tr>\n",
       "    <tr>\n",
       "      <th>4</th>\n",
       "      <td>fian fantasy 9 go best one series far graphics...</td>\n",
       "      <td>4.0</td>\n",
       "      <td>1</td>\n",
       "      <td>2</td>\n",
       "    </tr>\n",
       "    <tr>\n",
       "      <th>...</th>\n",
       "      <td>...</td>\n",
       "      <td>...</td>\n",
       "      <td>...</td>\n",
       "      <td>...</td>\n",
       "    </tr>\n",
       "    <tr>\n",
       "      <th>31090</th>\n",
       "      <td>make child happy good price</td>\n",
       "      <td>4.0</td>\n",
       "      <td>0</td>\n",
       "      <td>2</td>\n",
       "    </tr>\n",
       "    <tr>\n",
       "      <th>31091</th>\n",
       "      <td>sweat</td>\n",
       "      <td>4.0</td>\n",
       "      <td>1</td>\n",
       "      <td>2</td>\n",
       "    </tr>\n",
       "    <tr>\n",
       "      <th>31092</th>\n",
       "      <td>brainer tons new stuff days additional game pl...</td>\n",
       "      <td>5.0</td>\n",
       "      <td>1</td>\n",
       "      <td>2</td>\n",
       "    </tr>\n",
       "    <tr>\n",
       "      <th>31093</th>\n",
       "      <td>got game like sid meiers games one nice love f...</td>\n",
       "      <td>4.0</td>\n",
       "      <td>1</td>\n",
       "      <td>2</td>\n",
       "    </tr>\n",
       "    <tr>\n",
       "      <th>31094</th>\n",
       "      <td>easy use great sound favorite pedal way better...</td>\n",
       "      <td>5.0</td>\n",
       "      <td>0</td>\n",
       "      <td>2</td>\n",
       "    </tr>\n",
       "  </tbody>\n",
       "</table>\n",
       "<p>31095 rows × 4 columns</p>\n",
       "</div>"
      ],
      "text/plain": [
       "                                                    Text  Review_Score  \\\n",
       "0      though game still good cant compete curse monk...           3.0   \n",
       "1      best game everust like field pitchin hiting ba...           5.0   \n",
       "2      first animal crossing game go easy game cute e...           4.0   \n",
       "3      cute mic us working musicians need cute need s...           3.0   \n",
       "4      fian fantasy 9 go best one series far graphics...           4.0   \n",
       "...                                                  ...           ...   \n",
       "31090                        make child happy good price           4.0   \n",
       "31091                                              sweat           4.0   \n",
       "31092  brainer tons new stuff days additional game pl...           5.0   \n",
       "31093  got game like sid meiers games one nice love f...           4.0   \n",
       "31094  easy use great sound favorite pedal way better...           5.0   \n",
       "\n",
       "       product_category  Sentiment  \n",
       "0                     1          1  \n",
       "1                     1          2  \n",
       "2                     1          2  \n",
       "3                     0          1  \n",
       "4                     1          2  \n",
       "...                 ...        ...  \n",
       "31090                 0          2  \n",
       "31091                 1          2  \n",
       "31092                 1          2  \n",
       "31093                 1          2  \n",
       "31094                 0          2  \n",
       "\n",
       "[31095 rows x 4 columns]"
      ]
     },
     "execution_count": 43,
     "metadata": {},
     "output_type": "execute_result"
    }
   ],
   "source": [
    "ML = df({\n",
    "    'Text': reviews.text,\n",
    "    'Review_Score': reviews.review_score,\n",
    "    'product_category': enc_cat,\n",
    "    'Sentiment': enc_s,\n",
    "})\n",
    "ML"
   ]
  },
  {
   "cell_type": "markdown",
   "id": "41d2ea79",
   "metadata": {},
   "source": [
    "Stemming the ML dataframe"
   ]
  },
  {
   "cell_type": "code",
   "execution_count": 44,
   "id": "bc4c7e7d",
   "metadata": {},
   "outputs": [],
   "source": [
    "from nltk.stem.porter import PorterStemmer\n",
    "from nltk.tokenize import TreebankWordTokenizer\n",
    "tokenizer2 = TreebankWordTokenizer()\n",
    "\n",
    "stemmer = PorterStemmer()\n",
    "\n",
    "\n",
    "def stemming(text):\n",
    "    text = [stemmer.stem(word) for word in text.split()]\n",
    "\n",
    "    return \" \".join(text)"
   ]
  },
  {
   "cell_type": "code",
   "execution_count": 45,
   "id": "ddbbb35a",
   "metadata": {},
   "outputs": [],
   "source": [
    "ML[\"Text\"] = ML[\"Text\"].map(stemming)"
   ]
  },
  {
   "cell_type": "code",
   "execution_count": 46,
   "id": "f8ab6b7d",
   "metadata": {
    "scrolled": true
   },
   "outputs": [
    {
     "data": {
      "text/html": [
       "<div>\n",
       "<style scoped>\n",
       "    .dataframe tbody tr th:only-of-type {\n",
       "        vertical-align: middle;\n",
       "    }\n",
       "\n",
       "    .dataframe tbody tr th {\n",
       "        vertical-align: top;\n",
       "    }\n",
       "\n",
       "    .dataframe thead th {\n",
       "        text-align: right;\n",
       "    }\n",
       "</style>\n",
       "<table border=\"1\" class=\"dataframe\">\n",
       "  <thead>\n",
       "    <tr style=\"text-align: right;\">\n",
       "      <th></th>\n",
       "      <th>Review_Score</th>\n",
       "      <th>product_category</th>\n",
       "      <th>Sentiment</th>\n",
       "    </tr>\n",
       "  </thead>\n",
       "  <tbody>\n",
       "    <tr>\n",
       "      <th>count</th>\n",
       "      <td>31095.000000</td>\n",
       "      <td>31095.000000</td>\n",
       "      <td>31095.000000</td>\n",
       "    </tr>\n",
       "    <tr>\n",
       "      <th>mean</th>\n",
       "      <td>4.232771</td>\n",
       "      <td>0.679434</td>\n",
       "      <td>1.689018</td>\n",
       "    </tr>\n",
       "    <tr>\n",
       "      <th>std</th>\n",
       "      <td>1.166650</td>\n",
       "      <td>0.466702</td>\n",
       "      <td>0.653346</td>\n",
       "    </tr>\n",
       "    <tr>\n",
       "      <th>min</th>\n",
       "      <td>1.000000</td>\n",
       "      <td>0.000000</td>\n",
       "      <td>0.000000</td>\n",
       "    </tr>\n",
       "    <tr>\n",
       "      <th>25%</th>\n",
       "      <td>4.000000</td>\n",
       "      <td>0.000000</td>\n",
       "      <td>2.000000</td>\n",
       "    </tr>\n",
       "    <tr>\n",
       "      <th>50%</th>\n",
       "      <td>5.000000</td>\n",
       "      <td>1.000000</td>\n",
       "      <td>2.000000</td>\n",
       "    </tr>\n",
       "    <tr>\n",
       "      <th>75%</th>\n",
       "      <td>5.000000</td>\n",
       "      <td>1.000000</td>\n",
       "      <td>2.000000</td>\n",
       "    </tr>\n",
       "    <tr>\n",
       "      <th>max</th>\n",
       "      <td>5.000000</td>\n",
       "      <td>1.000000</td>\n",
       "      <td>2.000000</td>\n",
       "    </tr>\n",
       "  </tbody>\n",
       "</table>\n",
       "</div>"
      ],
      "text/plain": [
       "       Review_Score  product_category     Sentiment\n",
       "count  31095.000000      31095.000000  31095.000000\n",
       "mean       4.232771          0.679434      1.689018\n",
       "std        1.166650          0.466702      0.653346\n",
       "min        1.000000          0.000000      0.000000\n",
       "25%        4.000000          0.000000      2.000000\n",
       "50%        5.000000          1.000000      2.000000\n",
       "75%        5.000000          1.000000      2.000000\n",
       "max        5.000000          1.000000      2.000000"
      ]
     },
     "execution_count": 46,
     "metadata": {},
     "output_type": "execute_result"
    }
   ],
   "source": [
    "ML.describe()"
   ]
  },
  {
   "cell_type": "markdown",
   "id": "d9d6da47",
   "metadata": {},
   "source": [
    "Counting unique words"
   ]
  },
  {
   "cell_type": "code",
   "execution_count": 47,
   "id": "a775ad6e",
   "metadata": {},
   "outputs": [],
   "source": [
    "count = Counter()\n",
    "for i in ML.Text.values:\n",
    "    for word in i.split():\n",
    "        count[word] += 1"
   ]
  },
  {
   "cell_type": "code",
   "execution_count": 48,
   "id": "868d1a49",
   "metadata": {},
   "outputs": [
    {
     "data": {
      "text/plain": [
       "49431"
      ]
     },
     "execution_count": 48,
     "metadata": {},
     "output_type": "execute_result"
    }
   ],
   "source": [
    "wordcount = len(count)\n",
    "wordcount"
   ]
  },
  {
   "cell_type": "markdown",
   "id": "472dba68",
   "metadata": {},
   "source": [
    "Data Splitting for the product_category models"
   ]
  },
  {
   "cell_type": "code",
   "execution_count": 49,
   "id": "22ee9078",
   "metadata": {},
   "outputs": [],
   "source": [
    "train_size = int(reviews.shape[0] * 0.8)\n",
    "\n",
    "train = ML.Text[:train_size]\n",
    "train_labels = ML.product_category[:train_size]\n",
    "test = ML.Text[train_size:]\n",
    "test_labels = ML.product_category[train_size:]"
   ]
  },
  {
   "cell_type": "markdown",
   "id": "a753ad63",
   "metadata": {},
   "source": [
    "Tokenizing"
   ]
  },
  {
   "cell_type": "code",
   "execution_count": 50,
   "id": "7278f81b",
   "metadata": {},
   "outputs": [],
   "source": [
    "tokenizer = Tokenizer(num_words=wordcount)\n",
    "tokenizer.fit_on_texts(train)\n",
    "word_index = tokenizer.word_index"
   ]
  },
  {
   "cell_type": "code",
   "execution_count": 51,
   "id": "5781d284",
   "metadata": {},
   "outputs": [
    {
     "name": "stdout",
     "output_type": "stream",
     "text": [
      "Number of unique words: 43195\n"
     ]
    }
   ],
   "source": [
    "print(\"Number of unique words:\", len(word_index))"
   ]
  },
  {
   "cell_type": "code",
   "execution_count": 52,
   "id": "319d4c75",
   "metadata": {},
   "outputs": [
    {
     "data": {
      "text/html": [
       "<div>\n",
       "<style scoped>\n",
       "    .dataframe tbody tr th:only-of-type {\n",
       "        vertical-align: middle;\n",
       "    }\n",
       "\n",
       "    .dataframe tbody tr th {\n",
       "        vertical-align: top;\n",
       "    }\n",
       "\n",
       "    .dataframe thead th {\n",
       "        text-align: right;\n",
       "    }\n",
       "</style>\n",
       "<table border=\"1\" class=\"dataframe\">\n",
       "  <thead>\n",
       "    <tr style=\"text-align: right;\">\n",
       "      <th></th>\n",
       "      <th>Text</th>\n",
       "      <th>Review_Score</th>\n",
       "      <th>product_category</th>\n",
       "      <th>Sentiment</th>\n",
       "    </tr>\n",
       "  </thead>\n",
       "  <tbody>\n",
       "    <tr>\n",
       "      <th>0</th>\n",
       "      <td>though game still good cant compet curs monkey...</td>\n",
       "      <td>3.0</td>\n",
       "      <td>1</td>\n",
       "      <td>1</td>\n",
       "    </tr>\n",
       "    <tr>\n",
       "      <th>1</th>\n",
       "      <td>best game everust like field pitchin hite base...</td>\n",
       "      <td>5.0</td>\n",
       "      <td>1</td>\n",
       "      <td>2</td>\n",
       "    </tr>\n",
       "    <tr>\n",
       "      <th>2</th>\n",
       "      <td>first anim cross game go easi game cute enjoy ...</td>\n",
       "      <td>4.0</td>\n",
       "      <td>1</td>\n",
       "      <td>2</td>\n",
       "    </tr>\n",
       "    <tr>\n",
       "      <th>3</th>\n",
       "      <td>cute mic us work musician need cute need somet...</td>\n",
       "      <td>3.0</td>\n",
       "      <td>0</td>\n",
       "      <td>1</td>\n",
       "    </tr>\n",
       "    <tr>\n",
       "      <th>4</th>\n",
       "      <td>fian fantasi 9 go best one seri far graphic on...</td>\n",
       "      <td>4.0</td>\n",
       "      <td>1</td>\n",
       "      <td>2</td>\n",
       "    </tr>\n",
       "  </tbody>\n",
       "</table>\n",
       "</div>"
      ],
      "text/plain": [
       "                                                Text  Review_Score  \\\n",
       "0  though game still good cant compet curs monkey...           3.0   \n",
       "1  best game everust like field pitchin hite base...           5.0   \n",
       "2  first anim cross game go easi game cute enjoy ...           4.0   \n",
       "3  cute mic us work musician need cute need somet...           3.0   \n",
       "4  fian fantasi 9 go best one seri far graphic on...           4.0   \n",
       "\n",
       "   product_category  Sentiment  \n",
       "0                 1          1  \n",
       "1                 1          2  \n",
       "2                 1          2  \n",
       "3                 0          1  \n",
       "4                 1          2  "
      ]
     },
     "execution_count": 52,
     "metadata": {},
     "output_type": "execute_result"
    }
   ],
   "source": [
    "ML.head()"
   ]
  },
  {
   "cell_type": "markdown",
   "id": "7a125c07",
   "metadata": {},
   "source": [
    "Sequencing & Padding"
   ]
  },
  {
   "cell_type": "code",
   "execution_count": 53,
   "id": "18eaeab3",
   "metadata": {},
   "outputs": [],
   "source": [
    "train_seq = tokenizer.texts_to_sequences(train)\n",
    "\n",
    "max_len = 100\n",
    "train_padded = pad_sequences(train_seq, maxlen=max_len, truncating=\"post\", padding=\"post\")"
   ]
  },
  {
   "cell_type": "code",
   "execution_count": 54,
   "id": "a6a0eb97",
   "metadata": {},
   "outputs": [],
   "source": [
    "test_seq = tokenizer.texts_to_sequences(test)\n",
    "test_padded = pad_sequences(test_seq, maxlen=max_len, padding=\"post\", truncating=\"post\")"
   ]
  },
  {
   "cell_type": "markdown",
   "id": "68823069",
   "metadata": {},
   "source": [
    "Inversing & Decoding"
   ]
  },
  {
   "cell_type": "code",
   "execution_count": 55,
   "id": "f14761b8",
   "metadata": {},
   "outputs": [],
   "source": [
    "# Decoding function\n",
    "def decode(text):\n",
    "    return \" \".join([reverse_word_index.get(i, \"?\") for i in text])"
   ]
  },
  {
   "cell_type": "code",
   "execution_count": 56,
   "id": "2e5e105f",
   "metadata": {},
   "outputs": [],
   "source": [
    "reverse_word_index = dict([(value, key) for (key, value) in word_index.items()])"
   ]
  },
  {
   "cell_type": "code",
   "execution_count": 57,
   "id": "7d3146e4",
   "metadata": {},
   "outputs": [
    {
     "name": "stdout",
     "output_type": "stream",
     "text": [
      "excel foot tambourin good sound littl thintinni number cymbal loud definit wont heard amplifi instrument great plenti loud acoust set great acoust set\n",
      "[158, 1301, 7224, 7, 23, 42, 19854, 513, 1647, 901, 183, 208, 644, 1677, 473, 5, 597, 901, 624, 63, 5, 624, 63]\n"
     ]
    }
   ],
   "source": [
    "# Checking a random sample\n",
    "print(ML.Text[172])\n",
    "print(train_seq[172])"
   ]
  },
  {
   "cell_type": "code",
   "execution_count": 58,
   "id": "faf9cdd7",
   "metadata": {},
   "outputs": [
    {
     "data": {
      "text/plain": [
       "'excel foot tambourin good sound littl thintinni number cymbal loud definit wont heard amplifi instrument great plenti loud acoust set great acoust set'"
      ]
     },
     "execution_count": 58,
     "metadata": {},
     "output_type": "execute_result"
    }
   ],
   "source": [
    "decode(train_seq[172])"
   ]
  },
  {
   "cell_type": "markdown",
   "id": "651be10c",
   "metadata": {},
   "source": [
    "# Product_Category Model 1"
   ]
  },
  {
   "cell_type": "markdown",
   "id": "42ec16e0",
   "metadata": {},
   "source": [
    "### LSTM ANN/RNN"
   ]
  },
  {
   "cell_type": "code",
   "execution_count": 59,
   "id": "784a11d8",
   "metadata": {},
   "outputs": [
    {
     "name": "stdout",
     "output_type": "stream",
     "text": [
      "Shape of train (24876, 100)\n",
      "Shape of test (6219, 100)\n"
     ]
    }
   ],
   "source": [
    "print(f\"Shape of train {train_padded.shape}\")\n",
    "print(f\"Shape of test {test_padded.shape}\")"
   ]
  },
  {
   "cell_type": "code",
   "execution_count": 60,
   "id": "d7d8b469",
   "metadata": {},
   "outputs": [],
   "source": [
    "embedding_dict = {}\n",
    "with open(\"glove.twitter.27B.100d.txt\", encoding = \"utf8\") as f:\n",
    "    for line in f:\n",
    "        values = line.split()\n",
    "        word = values[0]\n",
    "        vectors = np.asarray(values[1:], \"float32\")\n",
    "        embedding_dict[word] = vectors\n",
    "f.close()"
   ]
  },
  {
   "cell_type": "code",
   "execution_count": 61,
   "id": "3e6f7b47",
   "metadata": {},
   "outputs": [],
   "source": [
    "num_words = len(word_index) + 1\n",
    "embedding_matrix = np.zeros((num_words, 100))\n",
    "\n",
    "for word, i in word_index.items():\n",
    "    if i < num_words:\n",
    "        emb_vec = embedding_dict.get(word)\n",
    "        if emb_vec is not None:\n",
    "            embedding_matrix[i] = emb_vec"
   ]
  },
  {
   "cell_type": "code",
   "execution_count": 62,
   "id": "599720b4",
   "metadata": {},
   "outputs": [],
   "source": [
    "model = Sequential()\n",
    "\n",
    "model.add(Embedding(num_words,100,embeddings_initializer=Constant(embedding_matrix),input_length=max_len,trainable=False,))\n",
    "model.add(LSTM(100, dropout=0.1))\n",
    "model.add(Dense(1, activation=\"sigmoid\"))\n",
    "\n",
    "\n",
    "optimizer = Adam(learning_rate=3e-4)\n",
    "\n",
    "model.compile(loss=\"binary_crossentropy\", optimizer=optimizer, metrics=[\"accuracy\"])"
   ]
  },
  {
   "cell_type": "code",
   "execution_count": 63,
   "id": "3fbe6473",
   "metadata": {},
   "outputs": [
    {
     "name": "stdout",
     "output_type": "stream",
     "text": [
      "Model: \"sequential\"\n",
      "_________________________________________________________________\n",
      " Layer (type)                Output Shape              Param #   \n",
      "=================================================================\n",
      " embedding (Embedding)       (None, 100, 100)          4319600   \n",
      "                                                                 \n",
      " lstm (LSTM)                 (None, 100)               80400     \n",
      "                                                                 \n",
      " dense (Dense)               (None, 1)                 101       \n",
      "                                                                 \n",
      "=================================================================\n",
      "Total params: 4,400,101\n",
      "Trainable params: 80,501\n",
      "Non-trainable params: 4,319,600\n",
      "_________________________________________________________________\n"
     ]
    }
   ],
   "source": [
    "model.summary()"
   ]
  },
  {
   "cell_type": "code",
   "execution_count": 64,
   "id": "5b1bbf43",
   "metadata": {
    "scrolled": false
   },
   "outputs": [
    {
     "name": "stdout",
     "output_type": "stream",
     "text": [
      "Epoch 1/20\n",
      "778/778 [==============================] - 68s 85ms/step - loss: 0.4637 - accuracy: 0.7213 - val_loss: 0.4031 - val_accuracy: 0.7427\n",
      "Epoch 2/20\n",
      "778/778 [==============================] - 67s 86ms/step - loss: 0.3856 - accuracy: 0.7764 - val_loss: 0.3476 - val_accuracy: 0.8051\n",
      "Epoch 3/20\n",
      "778/778 [==============================] - 68s 88ms/step - loss: 0.3632 - accuracy: 0.8285 - val_loss: 0.3492 - val_accuracy: 0.8416\n",
      "Epoch 4/20\n",
      "778/778 [==============================] - 69s 88ms/step - loss: 0.5096 - accuracy: 0.7805 - val_loss: 0.4036 - val_accuracy: 0.8455\n",
      "Epoch 5/20\n",
      "778/778 [==============================] - 67s 86ms/step - loss: 0.5213 - accuracy: 0.7401 - val_loss: 0.3649 - val_accuracy: 0.8331\n",
      "Epoch 6/20\n",
      "778/778 [==============================] - 67s 86ms/step - loss: 0.4539 - accuracy: 0.7944 - val_loss: 0.3125 - val_accuracy: 0.8550\n",
      "Epoch 7/20\n",
      "778/778 [==============================] - 68s 88ms/step - loss: 0.2778 - accuracy: 0.8722 - val_loss: 0.2514 - val_accuracy: 0.8807\n",
      "Epoch 8/20\n",
      "778/778 [==============================] - 68s 87ms/step - loss: 0.2472 - accuracy: 0.8878 - val_loss: 0.2277 - val_accuracy: 0.8929\n",
      "Epoch 9/20\n",
      "778/778 [==============================] - 69s 88ms/step - loss: 0.2269 - accuracy: 0.8956 - val_loss: 0.2371 - val_accuracy: 0.8884\n",
      "Epoch 10/20\n",
      "778/778 [==============================] - 68s 87ms/step - loss: 0.2146 - accuracy: 0.9003 - val_loss: 0.2025 - val_accuracy: 0.8997\n",
      "Epoch 11/20\n",
      "778/778 [==============================] - 69s 88ms/step - loss: 0.2010 - accuracy: 0.9079 - val_loss: 0.1942 - val_accuracy: 0.9053\n",
      "Epoch 12/20\n",
      "778/778 [==============================] - 68s 88ms/step - loss: 0.1917 - accuracy: 0.9100 - val_loss: 0.1827 - val_accuracy: 0.9164\n",
      "Epoch 13/20\n",
      "778/778 [==============================] - 68s 87ms/step - loss: 0.1831 - accuracy: 0.9146 - val_loss: 0.1839 - val_accuracy: 0.9088\n",
      "Epoch 14/20\n",
      "778/778 [==============================] - 69s 88ms/step - loss: 0.1739 - accuracy: 0.9194 - val_loss: 0.1782 - val_accuracy: 0.9141\n",
      "Epoch 15/20\n",
      "778/778 [==============================] - 69s 88ms/step - loss: 0.1696 - accuracy: 0.9221 - val_loss: 0.1804 - val_accuracy: 0.9135\n",
      "Epoch 16/20\n",
      "778/778 [==============================] - 69s 88ms/step - loss: 0.1653 - accuracy: 0.9228 - val_loss: 0.1699 - val_accuracy: 0.9180\n",
      "Epoch 17/20\n",
      "778/778 [==============================] - 69s 88ms/step - loss: 0.1580 - accuracy: 0.9264 - val_loss: 0.1687 - val_accuracy: 0.9223\n",
      "Epoch 18/20\n",
      "778/778 [==============================] - 69s 89ms/step - loss: 0.1520 - accuracy: 0.9284 - val_loss: 0.1619 - val_accuracy: 0.9238\n",
      "Epoch 19/20\n",
      "778/778 [==============================] - 70s 89ms/step - loss: 0.1473 - accuracy: 0.9310 - val_loss: 0.1548 - val_accuracy: 0.9275\n",
      "Epoch 20/20\n",
      "778/778 [==============================] - 69s 88ms/step - loss: 0.1415 - accuracy: 0.9364 - val_loss: 0.1541 - val_accuracy: 0.9283\n"
     ]
    }
   ],
   "source": [
    "history = model.fit(train_padded,train_labels,epochs=20,validation_data=(test_padded, test_labels),verbose=1,)"
   ]
  },
  {
   "cell_type": "code",
   "execution_count": 65,
   "id": "5c9564b1",
   "metadata": {},
   "outputs": [
    {
     "data": {
      "image/png": "[encoded data removed]",
      "text/plain": [
       "<Figure size 1224x504 with 1 Axes>"
      ]
     },
     "metadata": {
      "needs_background": "light"
     },
     "output_type": "display_data"
    }
   ],
   "source": [
    "plt.figure(1, figsize=(17, 7))\n",
    "plt.title('Accuracy', fontsize=25)\n",
    "plt.plot(history.history['accuracy'], label='train')\n",
    "plt.plot(history.history['val_accuracy'], label='test')\n",
    "plt.xticks(fontsize=15)\n",
    "plt.yticks(fontsize=15)\n",
    "plt.legend(prop={'size': 15})\n",
    "plt.savefig('Accuracy Model 1.pdf')\n",
    "plt.show();"
   ]
  },
  {
   "cell_type": "code",
   "execution_count": 66,
   "id": "29ebb390",
   "metadata": {},
   "outputs": [
    {
     "data": {
      "image/png": "[encoded data removed]",
      "text/plain": [
       "<Figure size 1224x504 with 1 Axes>"
      ]
     },
     "metadata": {
      "needs_background": "light"
     },
     "output_type": "display_data"
    }
   ],
   "source": [
    "plt.figure(1, figsize=(17, 7))\n",
    "plt.title('Loss', fontsize=25)\n",
    "plt.plot(history.history['loss'], label='train')\n",
    "plt.plot(history.history['val_loss'], label='test')\n",
    "plt.xticks(fontsize=15)\n",
    "plt.yticks(fontsize=15)\n",
    "plt.legend(prop={'size': 15})\n",
    "plt.savefig('Loss Model 1.pdf')\n",
    "plt.show()"
   ]
  },
  {
   "cell_type": "markdown",
   "id": "9a04d577",
   "metadata": {},
   "source": [
    "###### Showing Some Examples"
   ]
  },
  {
   "cell_type": "code",
   "execution_count": 67,
   "id": "339fa054",
   "metadata": {},
   "outputs": [],
   "source": [
    "pred = model.predict(test_padded)"
   ]
  },
  {
   "cell_type": "code",
   "execution_count": 68,
   "id": "e69801dc",
   "metadata": {},
   "outputs": [
    {
     "name": "stdout",
     "output_type": "stream",
     "text": [
      "Original Text:\n",
      " job works fine\n",
      "Real Category: 0\n",
      "Predicted Category: 0\n",
      "----------------------------------------\n",
      "Original Text:\n",
      " would say game sadly bit disappointing really one simple thing simply challenging logging around 20 hours game yet encounter 2 challenging fights battles encounter frequent rather annoying rarely lasting 5 seconds duration requiring two three hits per enemy rarely hit back ill add also encounter battles every 5 seconds dungeons world map characters frequently level almost every battle always end enough money purchase item find shops simply easy much fun wasnt game would quite good story decent voice acting done fairly well game offers enough interesting items upgrades keep things interesting simply easy easy enjoy\n",
      "Real Category: 1\n",
      "Predicted Category: 1\n",
      "----------------------------------------\n",
      "Original Text:\n",
      " great gift kids son loves playing wouldnt get anyone ubder 7 8 difficult play levels awesome game\n",
      "Real Category: 1\n",
      "Predicted Category: 1\n",
      "----------------------------------------\n",
      "Original Text:\n",
      " ive favoring rtss simulations mmos last several years almost ignoring rpg background dont think unfair say simply wow im talking world warcraft either oblivion immersive world ive ever played amazingly beautiful large geographically terms playing well world rich adventure game designed grow grow monster difficulty tailored level join number factions time rise status home owning biggy old ultima online vet even possible great issue menus streamlined example would great sort remove button alchemy page whereby clear ingredients rather go ingredient individual remove also could better use esc key use escape sales window cant use escape conversation npc instinct oblivion im glad home\n",
      "Real Category: 1\n",
      "Predicted Category: 1\n",
      "----------------------------------------\n",
      "Original Text:\n",
      " game fun play difficult lucky able unlock everything game theres things unlock like race tracks think around 10 secret chracters im almost positive theres 10 secret 30 seconds video chracter beat hardest level machine parts make machine graphics awesome plus game fast took months complete average game takes couple weeks expert\n",
      "Real Category: 1\n",
      "Predicted Category: 1\n",
      "----------------------------------------\n",
      "Original Text:\n",
      " nice practice cable nice jacks nice practice cable\n",
      "Real Category: 0\n",
      "Predicted Category: 0\n",
      "----------------------------------------\n",
      "Original Text:\n",
      " avoid like plague battery nimh nickel metal hydride pantheon rechargeable batteries 1982 crap back rechargeable batteries lasted time buy lithium ion lithium polymer rechargeable batteries capabilities easily 34x nimh short spend extra 5 bucks get 36 hours per charge still 80 maximum recharge capacity 5 years always exceptions wherein lion cells die prematurely primarily overheated charged nonmicrosoft charger doesnt properly cut voltage charged chargers important battery life save 5 10 buying nimh battery get 12 hours full charge initially know however batterys maximum capacity even 2 years 50 best buyer beware avoid nimh batteries stick lithium ion battery packs 34x capacity lifespan\n",
      "Real Category: 1\n",
      "Predicted Category: 1\n",
      "----------------------------------------\n",
      "Original Text:\n",
      " keyboard wonderfulas long understand accept inherent characteristics looking keyboard 4year old could use give lessons really small hands without lot strength ancient stiffkeyed piano folks offered would turned instantly casio sa76 perfect sized keys kid also possesses nicely responsive keys decent sound yet durable enough take beating hey happens play fists insanity occurs bonus light enough preschooler carry compact enough easily brought onto bed want fool around music evening mimic baby grand nope wasnt intention ill admit getting dynamics lessons fact miniaturized casio doesnt weighted keys bit issue however figure piano time grandmas house used help along skill theory teaching rounded hand learning fingering playing dexterity games keys small enough reach intervals little keyboard great ps big thank prior commenters adapter recommendations bought casio ade95 keyboard power supply 20 amazon worked fine perfect keyboard young child\n",
      "Real Category: 0\n",
      "Predicted Category: 0\n",
      "----------------------------------------\n",
      "Original Text:\n",
      " 3 years use top vertical post seat spindle slides split 1 tube seat wobbles excessively im gigging good old back post split 3 yrs\n",
      "Real Category: 0\n",
      "Predicted Category: 0\n",
      "----------------------------------------\n",
      "Original Text:\n",
      " well much say game got day came locked room untill beat first time took 24 hours beat every second 24 hours great game much action packed seductive characters youll know mean get game takes place 1960s cold war play snake aka big boss get face new foes well old ones ocelot game also cool history behind big boss mystery gets big bosss past find got title detail game incredible mean get severly injured give yourslef surgery even hunt eat food keep stanima one minor default game takes little long load probably wont even notice stunned game theres certain sniper battle game take hour well test skills patience really cool well suggest get game new final fantasy game coming definatly contender game year also need tips game email k2jbrittyahoocom practically master game beat 16 times already im still sick best game\n",
      "Real Category: 1\n",
      "Predicted Category: 1\n",
      "----------------------------------------\n"
     ]
    }
   ],
   "source": [
    "# 1 for Video Games, 0 for Musical Instruments\n",
    "\n",
    "for i in range (train_size, train_size+10):\n",
    "    print('Original Text:\\n',reviews.text[i])\n",
    "    print('Real Category:',test_labels[i])\n",
    "    print('Predicted Category:', int(pred[i-train_size].round()))\n",
    "    print('----------------------------------------')\n"
   ]
  },
  {
   "cell_type": "markdown",
   "id": "aefe853a",
   "metadata": {},
   "source": [
    "# Product_Category Model 2"
   ]
  },
  {
   "cell_type": "markdown",
   "id": "cfcd3ced",
   "metadata": {},
   "source": [
    "### TF-IDF Logistic Regression"
   ]
  },
  {
   "cell_type": "code",
   "execution_count": 69,
   "id": "00198405",
   "metadata": {},
   "outputs": [],
   "source": [
    "train = ML.Text[:train_size]\n",
    "train_labels = ML.product_category[:train_size]\n",
    "test = ML.Text[train_size:]\n",
    "test_labels = ML.product_category[train_size:]"
   ]
  },
  {
   "cell_type": "code",
   "execution_count": 70,
   "id": "b2d64a09",
   "metadata": {},
   "outputs": [],
   "source": [
    "def tfidf(data, ngrams=(1, 2)):\n",
    "    tfidf_vectorizer = TfidfVectorizer(ngram_range=ngrams)\n",
    "    train = tfidf_vectorizer.fit_transform(data)\n",
    "\n",
    "    return train, tfidf_vectorizer\n",
    "\n",
    "\n",
    "train_tfidf, tfidf_vectorizer = tfidf(train)\n",
    "test_tfidf = tfidf_vectorizer.transform(test)"
   ]
  },
  {
   "cell_type": "code",
   "execution_count": 71,
   "id": "357873cb",
   "metadata": {},
   "outputs": [
    {
     "data": {
      "text/plain": [
       "LogisticRegression(class_weight='balanced')"
      ]
     },
     "execution_count": 71,
     "metadata": {},
     "output_type": "execute_result"
    }
   ],
   "source": [
    "model = LogisticRegression(class_weight=\"balanced\")\n",
    "model.fit(train_tfidf, train_labels)"
   ]
  },
  {
   "cell_type": "code",
   "execution_count": 72,
   "id": "bc971f6e",
   "metadata": {},
   "outputs": [
    {
     "name": "stdout",
     "output_type": "stream",
     "text": [
      "Model F1-Score: 94.88462947137101 %\n",
      "Model Accuracy: 93.26258240874739 %\n"
     ]
    }
   ],
   "source": [
    "y_pred = model.predict(test_tfidf)\n",
    "f1score = f1_score(test_labels, y_pred)\n",
    "accuracy = accuracy_score(test_labels, y_pred)\n",
    "\n",
    "print(f\"Model F1-Score: {f1score * 100} %\")\n",
    "print(f\"Model Accuracy: {accuracy * 100} %\")"
   ]
  },
  {
   "cell_type": "code",
   "execution_count": 73,
   "id": "7f23d27c",
   "metadata": {},
   "outputs": [
    {
     "name": "stdout",
     "output_type": "stream",
     "text": [
      "ROC AUC (Training)=0.995\n",
      "ROC AUC (Testing)=0.987\n"
     ]
    },
    {
     "data": {
      "image/png": "[encoded data removed]",
      "text/plain": [
       "<Figure size 1080x360 with 2 Axes>"
      ]
     },
     "metadata": {
      "needs_background": "light"
     },
     "output_type": "display_data"
    }
   ],
   "source": [
    "from sklearn.metrics import roc_curve\n",
    "from sklearn.metrics import roc_auc_score\n",
    "\n",
    "def roc_classifier(grid, X_train, y_train, X_test, y_test):\n",
    "    # predict probabilities\n",
    "    lr_probs_train = grid.predict_proba(X_train)\n",
    "    lr_probs_test = grid.predict_proba(X_test)\n",
    "    # keep probabilities for the positive outcome only\n",
    "    lr_probs_train = lr_probs_train[:, 1]\n",
    "    lr_probs_test = lr_probs_test[:, 1]\n",
    "\n",
    "    print('ROC AUC (Training)={:.3f}'.format(roc_auc_score(y_train, lr_probs_train)))\n",
    "    print('ROC AUC (Testing)={:.3f}'.format(roc_auc_score(y_test, lr_probs_test)))\n",
    "\n",
    "    # compute false positive and true positive rates\n",
    "    lr_fpr_train, lr_tpr_train, _ = roc_curve(y_train, lr_probs_train)\n",
    "    lr_fpr_test, lr_tpr_test, _ = roc_curve(y_test, lr_probs_test)\n",
    "\n",
    "    # plot the roc curve for the training set\n",
    "    _ = plt.figure(figsize=(15, 5))\n",
    "    ax1 =plt.subplot(121)\n",
    "    _ = ax1.plot(lr_fpr_train, lr_tpr_train, marker='x')\n",
    "    _ = ax1.plot([0,1], [0, 1], 'gray', linestyle=':', marker='')\n",
    "    _ = ax1.set_title('Receiver Operating Characteristics (ROC) - Training')\n",
    "    _ = ax1.set_xlabel('False Positive Rate')\n",
    "    _ = ax1.set_ylabel('True Positive Rate')\n",
    "\n",
    "    # plot the roc curve for the testing set\n",
    "    ax2 = plt.subplot(122)\n",
    "    _ = ax2.plot(lr_fpr_test, lr_tpr_test, marker='x')\n",
    "    _ = ax2.plot([0,1], [0, 1], 'gray', linestyle=':', marker='')\n",
    "    _ = ax2.set_title('Receiver Operating Characteristics (ROC) - Testing')\n",
    "    _ = ax2.set_xlabel('False Positive Rate')\n",
    "    _ = ax2.set_ylabel('True Positive Rate')\n",
    "\n",
    "    return (lr_probs_train, lr_fpr_train, lr_tpr_train, \n",
    "            lr_probs_test,  lr_fpr_test, lr_tpr_test)\n",
    "\n",
    "lr_probs_train, lr_fpr_train, lr_tpr_train, lr_probs_test, lr_fpr_test, lr_tpr_test = roc_classifier(model, train_tfidf, train_labels, test_tfidf, test_labels)\n",
    "plt.savefig('ROC PC.pdf')"
   ]
  },
  {
   "cell_type": "markdown",
   "id": "12adc59e",
   "metadata": {},
   "source": [
    "###### Showing Some Examples"
   ]
  },
  {
   "cell_type": "code",
   "execution_count": 74,
   "id": "91ac598d",
   "metadata": {},
   "outputs": [
    {
     "name": "stdout",
     "output_type": "stream",
     "text": [
      "Original Text:\n",
      " job works fine\n",
      "Real Category: 0\n",
      "Predicted Category: 0\n",
      "----------------------------------------\n",
      "Original Text:\n",
      " would say game sadly bit disappointing really one simple thing simply challenging logging around 20 hours game yet encounter 2 challenging fights battles encounter frequent rather annoying rarely lasting 5 seconds duration requiring two three hits per enemy rarely hit back ill add also encounter battles every 5 seconds dungeons world map characters frequently level almost every battle always end enough money purchase item find shops simply easy much fun wasnt game would quite good story decent voice acting done fairly well game offers enough interesting items upgrades keep things interesting simply easy easy enjoy\n",
      "Real Category: 1\n",
      "Predicted Category: 1\n",
      "----------------------------------------\n",
      "Original Text:\n",
      " great gift kids son loves playing wouldnt get anyone ubder 7 8 difficult play levels awesome game\n",
      "Real Category: 1\n",
      "Predicted Category: 1\n",
      "----------------------------------------\n",
      "Original Text:\n",
      " ive favoring rtss simulations mmos last several years almost ignoring rpg background dont think unfair say simply wow im talking world warcraft either oblivion immersive world ive ever played amazingly beautiful large geographically terms playing well world rich adventure game designed grow grow monster difficulty tailored level join number factions time rise status home owning biggy old ultima online vet even possible great issue menus streamlined example would great sort remove button alchemy page whereby clear ingredients rather go ingredient individual remove also could better use esc key use escape sales window cant use escape conversation npc instinct oblivion im glad home\n",
      "Real Category: 1\n",
      "Predicted Category: 1\n",
      "----------------------------------------\n",
      "Original Text:\n",
      " game fun play difficult lucky able unlock everything game theres things unlock like race tracks think around 10 secret chracters im almost positive theres 10 secret 30 seconds video chracter beat hardest level machine parts make machine graphics awesome plus game fast took months complete average game takes couple weeks expert\n",
      "Real Category: 1\n",
      "Predicted Category: 1\n",
      "----------------------------------------\n",
      "Original Text:\n",
      " nice practice cable nice jacks nice practice cable\n",
      "Real Category: 0\n",
      "Predicted Category: 0\n",
      "----------------------------------------\n",
      "Original Text:\n",
      " avoid like plague battery nimh nickel metal hydride pantheon rechargeable batteries 1982 crap back rechargeable batteries lasted time buy lithium ion lithium polymer rechargeable batteries capabilities easily 34x nimh short spend extra 5 bucks get 36 hours per charge still 80 maximum recharge capacity 5 years always exceptions wherein lion cells die prematurely primarily overheated charged nonmicrosoft charger doesnt properly cut voltage charged chargers important battery life save 5 10 buying nimh battery get 12 hours full charge initially know however batterys maximum capacity even 2 years 50 best buyer beware avoid nimh batteries stick lithium ion battery packs 34x capacity lifespan\n",
      "Real Category: 1\n",
      "Predicted Category: 1\n",
      "----------------------------------------\n",
      "Original Text:\n",
      " keyboard wonderfulas long understand accept inherent characteristics looking keyboard 4year old could use give lessons really small hands without lot strength ancient stiffkeyed piano folks offered would turned instantly casio sa76 perfect sized keys kid also possesses nicely responsive keys decent sound yet durable enough take beating hey happens play fists insanity occurs bonus light enough preschooler carry compact enough easily brought onto bed want fool around music evening mimic baby grand nope wasnt intention ill admit getting dynamics lessons fact miniaturized casio doesnt weighted keys bit issue however figure piano time grandmas house used help along skill theory teaching rounded hand learning fingering playing dexterity games keys small enough reach intervals little keyboard great ps big thank prior commenters adapter recommendations bought casio ade95 keyboard power supply 20 amazon worked fine perfect keyboard young child\n",
      "Real Category: 0\n",
      "Predicted Category: 0\n",
      "----------------------------------------\n",
      "Original Text:\n",
      " 3 years use top vertical post seat spindle slides split 1 tube seat wobbles excessively im gigging good old back post split 3 yrs\n",
      "Real Category: 0\n",
      "Predicted Category: 0\n",
      "----------------------------------------\n",
      "Original Text:\n",
      " well much say game got day came locked room untill beat first time took 24 hours beat every second 24 hours great game much action packed seductive characters youll know mean get game takes place 1960s cold war play snake aka big boss get face new foes well old ones ocelot game also cool history behind big boss mystery gets big bosss past find got title detail game incredible mean get severly injured give yourslef surgery even hunt eat food keep stanima one minor default game takes little long load probably wont even notice stunned game theres certain sniper battle game take hour well test skills patience really cool well suggest get game new final fantasy game coming definatly contender game year also need tips game email k2jbrittyahoocom practically master game beat 16 times already im still sick best game\n",
      "Real Category: 1\n",
      "Predicted Category: 1\n",
      "----------------------------------------\n"
     ]
    }
   ],
   "source": [
    "# 1 for Video Games, 0 for Musical Instruments\n",
    "\n",
    "for i in range (train_size, train_size+10):\n",
    "    print('Original Text:\\n',reviews.text[i])\n",
    "    print('Real Category:',test_labels[i])\n",
    "    print('Predicted Category:', y_pred[i-train_size])\n",
    "    print('----------------------------------------')"
   ]
  },
  {
   "cell_type": "markdown",
   "id": "201835d8",
   "metadata": {},
   "source": [
    "# Review_Score Model 1"
   ]
  },
  {
   "cell_type": "markdown",
   "id": "90970ce4",
   "metadata": {},
   "source": [
    "### Multi-Class Logistic Regression"
   ]
  },
  {
   "cell_type": "markdown",
   "id": "d9cb9649",
   "metadata": {},
   "source": [
    "Evaluation Function"
   ]
  },
  {
   "cell_type": "code",
   "execution_count": 75,
   "id": "d6671988",
   "metadata": {},
   "outputs": [],
   "source": [
    "def evaluate_classifier(grid, X_train, y_train, X_test, y_test):\n",
    "    # model evaluation for training set\n",
    "    y_train_predict = grid.predict(X_train)\n",
    "    print(\"Training SET\")\n",
    "    print(\"--------------------------------------\")\n",
    "    print('Accuracy: {:.3f}, Precision: {:.3f}, Recall: {:.3f}, F1 Score: {:.3f}'.format(accuracy_score(y_train, y_train_predict), \n",
    "                                                                                        precision_score(y_train, y_train_predict, average='weighted'), \n",
    "                                                                                        recall_score(y_train, y_train_predict, average='weighted'), \n",
    "                                                                                        f1_score(y_train, y_train_predict,average='weighted')))\n",
    "    print(\"Confusion Matrix:\\n {}\".format(confusion_matrix(y_train, y_train_predict)))\n",
    "\n",
    "    # model evaluation for testing set\n",
    "    y_test_predict = grid.predict(X_test)\n",
    "\n",
    "    print(\"\\nTesting SET\")\n",
    "    print(\"--------------------------------------\")\n",
    "    print('Accuracy: {:.3f}, Precision: {:.3f}, Recall: {:.3f}, F1 Score: {:.3f}'.format(accuracy_score(y_test, y_test_predict), \n",
    "                                                                                        precision_score(y_test, y_test_predict, average='weighted'), \n",
    "                                                                                        recall_score(y_test, y_test_predict, average='weighted'), \n",
    "                                                                                        f1_score(y_test, y_test_predict, average='weighted')))\n",
    "    print(\"Confusion Matrix:\\n {}\".format(confusion_matrix(y_test, y_test_predict)))\n",
    "    return y_train_predict, y_test_predict"
   ]
  },
  {
   "cell_type": "markdown",
   "id": "55a8d3dd",
   "metadata": {},
   "source": [
    "Splitting & Modelling"
   ]
  },
  {
   "cell_type": "code",
   "execution_count": 76,
   "id": "54927fee",
   "metadata": {},
   "outputs": [],
   "source": [
    "train_size = int(ML.shape[0] * 0.8)\n",
    "\n",
    "train = ML.Text[:train_size]\n",
    "train_labels = ML.Review_Score[:train_size]\n",
    "\n",
    "test = ML.Text[train_size:]\n",
    "test_labels = ML.Review_Score[train_size:]"
   ]
  },
  {
   "cell_type": "code",
   "execution_count": 77,
   "id": "6d986ace",
   "metadata": {},
   "outputs": [],
   "source": [
    "train_tfidf, tfidf_vectorizer = tfidf(train)\n",
    "test_tfidf = tfidf_vectorizer.transform(test)"
   ]
  },
  {
   "cell_type": "code",
   "execution_count": 78,
   "id": "54ab0504",
   "metadata": {},
   "outputs": [
    {
     "data": {
      "text/plain": [
       "LogisticRegression(class_weight='balanced', max_iter=1000)"
      ]
     },
     "execution_count": 78,
     "metadata": {},
     "output_type": "execute_result"
    }
   ],
   "source": [
    "model = LogisticRegression(class_weight=\"balanced\", max_iter=1000)\n",
    "model.fit(train_tfidf, train_labels)"
   ]
  },
  {
   "cell_type": "code",
   "execution_count": 79,
   "id": "dce4a8ea",
   "metadata": {},
   "outputs": [
    {
     "name": "stdout",
     "output_type": "stream",
     "text": [
      "Model F1-Score: 64.83507430403547 %\n",
      "Model Accuracy: 63.884868949991954 %\n"
     ]
    }
   ],
   "source": [
    "y_pred = model.predict(test_tfidf)\n",
    "f1score = f1_score(test_labels, y_pred, average='weighted')\n",
    "accuracy = accuracy_score(test_labels, y_pred)\n",
    "\n",
    "print(f\"Model F1-Score: {f1score * 100} %\")\n",
    "print(f\"Model Accuracy: {accuracy * 100} %\")"
   ]
  },
  {
   "cell_type": "code",
   "execution_count": 80,
   "id": "70b3c657",
   "metadata": {},
   "outputs": [
    {
     "name": "stdout",
     "output_type": "stream",
     "text": [
      "Training SET\n",
      "--------------------------------------\n",
      "Accuracy: 0.898, Precision: 0.909, Recall: 0.898, F1 Score: 0.900\n",
      "Confusion Matrix:\n",
      " [[ 1435     2     0     3     5]\n",
      " [    1  1203     3     4     1]\n",
      " [   16     2  2412    13    32]\n",
      " [   49    18    66  4299   359]\n",
      " [  156    80   318  1397 13002]]\n",
      "\n",
      "Testing SET\n",
      "--------------------------------------\n",
      "Accuracy: 0.639, Precision: 0.663, Recall: 0.639, F1 Score: 0.648\n",
      "Confusion Matrix:\n",
      " [[ 225   44   32   21   36]\n",
      " [  77   77   70   33   33]\n",
      " [  38   56  239  163   89]\n",
      " [  27   48  144  609  400]\n",
      " [  78   41  148  668 2823]]\n"
     ]
    }
   ],
   "source": [
    "y_train_predict, y_test_predict = evaluate_classifier(model, train_tfidf, train_labels, test_tfidf, test_labels)"
   ]
  },
  {
   "cell_type": "markdown",
   "id": "35da974d",
   "metadata": {},
   "source": [
    "###### Showing Some Examples"
   ]
  },
  {
   "cell_type": "code",
   "execution_count": 81,
   "id": "62ab7639",
   "metadata": {},
   "outputs": [
    {
     "name": "stdout",
     "output_type": "stream",
     "text": [
      "Original Text:\n",
      " job works fine\n",
      "Real Score: 5.0\n",
      "Predicted Score: 3.0\n",
      "----------------------------------------\n",
      "Original Text:\n",
      " would say game sadly bit disappointing really one simple thing simply challenging logging around 20 hours game yet encounter 2 challenging fights battles encounter frequent rather annoying rarely lasting 5 seconds duration requiring two three hits per enemy rarely hit back ill add also encounter battles every 5 seconds dungeons world map characters frequently level almost every battle always end enough money purchase item find shops simply easy much fun wasnt game would quite good story decent voice acting done fairly well game offers enough interesting items upgrades keep things interesting simply easy easy enjoy\n",
      "Real Score: 3.0\n",
      "Predicted Score: 3.0\n",
      "----------------------------------------\n",
      "Original Text:\n",
      " great gift kids son loves playing wouldnt get anyone ubder 7 8 difficult play levels awesome game\n",
      "Real Score: 5.0\n",
      "Predicted Score: 5.0\n",
      "----------------------------------------\n",
      "Original Text:\n",
      " ive favoring rtss simulations mmos last several years almost ignoring rpg background dont think unfair say simply wow im talking world warcraft either oblivion immersive world ive ever played amazingly beautiful large geographically terms playing well world rich adventure game designed grow grow monster difficulty tailored level join number factions time rise status home owning biggy old ultima online vet even possible great issue menus streamlined example would great sort remove button alchemy page whereby clear ingredients rather go ingredient individual remove also could better use esc key use escape sales window cant use escape conversation npc instinct oblivion im glad home\n",
      "Real Score: 4.0\n",
      "Predicted Score: 5.0\n",
      "----------------------------------------\n",
      "Original Text:\n",
      " game fun play difficult lucky able unlock everything game theres things unlock like race tracks think around 10 secret chracters im almost positive theres 10 secret 30 seconds video chracter beat hardest level machine parts make machine graphics awesome plus game fast took months complete average game takes couple weeks expert\n",
      "Real Score: 5.0\n",
      "Predicted Score: 4.0\n",
      "----------------------------------------\n",
      "Original Text:\n",
      " nice practice cable nice jacks nice practice cable\n",
      "Real Score: 5.0\n",
      "Predicted Score: 5.0\n",
      "----------------------------------------\n",
      "Original Text:\n",
      " avoid like plague battery nimh nickel metal hydride pantheon rechargeable batteries 1982 crap back rechargeable batteries lasted time buy lithium ion lithium polymer rechargeable batteries capabilities easily 34x nimh short spend extra 5 bucks get 36 hours per charge still 80 maximum recharge capacity 5 years always exceptions wherein lion cells die prematurely primarily overheated charged nonmicrosoft charger doesnt properly cut voltage charged chargers important battery life save 5 10 buying nimh battery get 12 hours full charge initially know however batterys maximum capacity even 2 years 50 best buyer beware avoid nimh batteries stick lithium ion battery packs 34x capacity lifespan\n",
      "Real Score: 1.0\n",
      "Predicted Score: 1.0\n",
      "----------------------------------------\n",
      "Original Text:\n",
      " keyboard wonderfulas long understand accept inherent characteristics looking keyboard 4year old could use give lessons really small hands without lot strength ancient stiffkeyed piano folks offered would turned instantly casio sa76 perfect sized keys kid also possesses nicely responsive keys decent sound yet durable enough take beating hey happens play fists insanity occurs bonus light enough preschooler carry compact enough easily brought onto bed want fool around music evening mimic baby grand nope wasnt intention ill admit getting dynamics lessons fact miniaturized casio doesnt weighted keys bit issue however figure piano time grandmas house used help along skill theory teaching rounded hand learning fingering playing dexterity games keys small enough reach intervals little keyboard great ps big thank prior commenters adapter recommendations bought casio ade95 keyboard power supply 20 amazon worked fine perfect keyboard young child\n",
      "Real Score: 5.0\n",
      "Predicted Score: 4.0\n",
      "----------------------------------------\n",
      "Original Text:\n",
      " 3 years use top vertical post seat spindle slides split 1 tube seat wobbles excessively im gigging good old back post split 3 yrs\n",
      "Real Score: 2.0\n",
      "Predicted Score: 5.0\n",
      "----------------------------------------\n",
      "Original Text:\n",
      " well much say game got day came locked room untill beat first time took 24 hours beat every second 24 hours great game much action packed seductive characters youll know mean get game takes place 1960s cold war play snake aka big boss get face new foes well old ones ocelot game also cool history behind big boss mystery gets big bosss past find got title detail game incredible mean get severly injured give yourslef surgery even hunt eat food keep stanima one minor default game takes little long load probably wont even notice stunned game theres certain sniper battle game take hour well test skills patience really cool well suggest get game new final fantasy game coming definatly contender game year also need tips game email k2jbrittyahoocom practically master game beat 16 times already im still sick best game\n",
      "Real Score: 5.0\n",
      "Predicted Score: 4.0\n",
      "----------------------------------------\n"
     ]
    }
   ],
   "source": [
    "for i in range (train_size, train_size+10):\n",
    "    print('Original Text:\\n',reviews.text[i])\n",
    "    print('Real Score:',test_labels[i])\n",
    "    print('Predicted Score:', y_pred[i-train_size])\n",
    "    print('----------------------------------------')"
   ]
  },
  {
   "cell_type": "markdown",
   "id": "6ae0f1ae",
   "metadata": {},
   "source": [
    "# Review_Score Model 2"
   ]
  },
  {
   "cell_type": "markdown",
   "id": "8fc4817c",
   "metadata": {},
   "source": [
    "### Multi-Class Bilinear Logistic Regression"
   ]
  },
  {
   "cell_type": "code",
   "execution_count": 82,
   "id": "332f3c35",
   "metadata": {},
   "outputs": [],
   "source": [
    "train_size = int(ML.shape[0] * 0.8)\n",
    "\n",
    "train = ML.Text[:train_size]\n",
    "train_labels = ML.Review_Score[:train_size]\n",
    "\n",
    "test = ML.Text[train_size:]\n",
    "test_labels = ML.Review_Score[train_size:]"
   ]
  },
  {
   "cell_type": "code",
   "execution_count": 83,
   "id": "0fc32924",
   "metadata": {},
   "outputs": [],
   "source": [
    "train_tfidf, tfidf_vectorizer = tfidf(train)\n",
    "test_tfidf = tfidf_vectorizer.transform(test)"
   ]
  },
  {
   "cell_type": "code",
   "execution_count": 84,
   "id": "e1fb4bea",
   "metadata": {},
   "outputs": [
    {
     "data": {
      "text/plain": [
       "LogisticRegression(class_weight='balanced', solver='liblinear')"
      ]
     },
     "execution_count": 84,
     "metadata": {},
     "output_type": "execute_result"
    }
   ],
   "source": [
    "model = LogisticRegression(class_weight=\"balanced\", solver='liblinear', penalty='l2')\n",
    "model.fit(train_tfidf, train_labels)"
   ]
  },
  {
   "cell_type": "code",
   "execution_count": 85,
   "id": "89d26729",
   "metadata": {},
   "outputs": [
    {
     "name": "stdout",
     "output_type": "stream",
     "text": [
      "Model F1-Score: 66.12257308017611 %\n",
      "Model Accuracy: 67.8726483357453 %\n"
     ]
    }
   ],
   "source": [
    "y_pred = model.predict(test_tfidf)\n",
    "f1score = f1_score(test_labels, y_pred, average='weighted')\n",
    "accuracy = accuracy_score(test_labels, y_pred)\n",
    "\n",
    "print(f\"Model F1-Score: {f1score * 100} %\")\n",
    "print(f\"Model Accuracy: {accuracy * 100} %\")"
   ]
  },
  {
   "cell_type": "code",
   "execution_count": 86,
   "id": "922ae076",
   "metadata": {},
   "outputs": [
    {
     "name": "stdout",
     "output_type": "stream",
     "text": [
      "Training SET\n",
      "--------------------------------------\n",
      "Accuracy: 0.895, Precision: 0.894, Recall: 0.895, F1 Score: 0.892\n",
      "Confusion Matrix:\n",
      " [[ 1424     4     1     4    12]\n",
      " [    9  1178     6     8    11]\n",
      " [   30     3  2199    30   213]\n",
      " [   44    12    60  3239  1436]\n",
      " [   68    27   128   498 14232]]\n",
      "\n",
      "Testing SET\n",
      "--------------------------------------\n",
      "Accuracy: 0.679, Precision: 0.652, Recall: 0.679, F1 Score: 0.661\n",
      "Confusion Matrix:\n",
      " [[ 204   38   27   13   76]\n",
      " [  68   61   65   30   66]\n",
      " [  30   41  205  134  175]\n",
      " [  18   26   96  457  631]\n",
      " [  40   14   80  330 3294]]\n"
     ]
    }
   ],
   "source": [
    "y_train_predict, y_test_predict = evaluate_classifier(model, train_tfidf, train_labels, test_tfidf, test_labels)"
   ]
  },
  {
   "cell_type": "markdown",
   "id": "1805bd22",
   "metadata": {},
   "source": [
    "###### Showing Some Examples"
   ]
  },
  {
   "cell_type": "code",
   "execution_count": 87,
   "id": "11e06c6a",
   "metadata": {},
   "outputs": [
    {
     "name": "stdout",
     "output_type": "stream",
     "text": [
      "Original Text:\n",
      " job works fine\n",
      "Real Score: 5.0\n",
      "Predicted Score: 3.0\n",
      "----------------------------------------\n",
      "Original Text:\n",
      " would say game sadly bit disappointing really one simple thing simply challenging logging around 20 hours game yet encounter 2 challenging fights battles encounter frequent rather annoying rarely lasting 5 seconds duration requiring two three hits per enemy rarely hit back ill add also encounter battles every 5 seconds dungeons world map characters frequently level almost every battle always end enough money purchase item find shops simply easy much fun wasnt game would quite good story decent voice acting done fairly well game offers enough interesting items upgrades keep things interesting simply easy easy enjoy\n",
      "Real Score: 3.0\n",
      "Predicted Score: 3.0\n",
      "----------------------------------------\n",
      "Original Text:\n",
      " great gift kids son loves playing wouldnt get anyone ubder 7 8 difficult play levels awesome game\n",
      "Real Score: 5.0\n",
      "Predicted Score: 5.0\n",
      "----------------------------------------\n",
      "Original Text:\n",
      " ive favoring rtss simulations mmos last several years almost ignoring rpg background dont think unfair say simply wow im talking world warcraft either oblivion immersive world ive ever played amazingly beautiful large geographically terms playing well world rich adventure game designed grow grow monster difficulty tailored level join number factions time rise status home owning biggy old ultima online vet even possible great issue menus streamlined example would great sort remove button alchemy page whereby clear ingredients rather go ingredient individual remove also could better use esc key use escape sales window cant use escape conversation npc instinct oblivion im glad home\n",
      "Real Score: 4.0\n",
      "Predicted Score: 5.0\n",
      "----------------------------------------\n",
      "Original Text:\n",
      " game fun play difficult lucky able unlock everything game theres things unlock like race tracks think around 10 secret chracters im almost positive theres 10 secret 30 seconds video chracter beat hardest level machine parts make machine graphics awesome plus game fast took months complete average game takes couple weeks expert\n",
      "Real Score: 5.0\n",
      "Predicted Score: 4.0\n",
      "----------------------------------------\n",
      "Original Text:\n",
      " nice practice cable nice jacks nice practice cable\n",
      "Real Score: 5.0\n",
      "Predicted Score: 5.0\n",
      "----------------------------------------\n",
      "Original Text:\n",
      " avoid like plague battery nimh nickel metal hydride pantheon rechargeable batteries 1982 crap back rechargeable batteries lasted time buy lithium ion lithium polymer rechargeable batteries capabilities easily 34x nimh short spend extra 5 bucks get 36 hours per charge still 80 maximum recharge capacity 5 years always exceptions wherein lion cells die prematurely primarily overheated charged nonmicrosoft charger doesnt properly cut voltage charged chargers important battery life save 5 10 buying nimh battery get 12 hours full charge initially know however batterys maximum capacity even 2 years 50 best buyer beware avoid nimh batteries stick lithium ion battery packs 34x capacity lifespan\n",
      "Real Score: 1.0\n",
      "Predicted Score: 1.0\n",
      "----------------------------------------\n",
      "Original Text:\n",
      " keyboard wonderfulas long understand accept inherent characteristics looking keyboard 4year old could use give lessons really small hands without lot strength ancient stiffkeyed piano folks offered would turned instantly casio sa76 perfect sized keys kid also possesses nicely responsive keys decent sound yet durable enough take beating hey happens play fists insanity occurs bonus light enough preschooler carry compact enough easily brought onto bed want fool around music evening mimic baby grand nope wasnt intention ill admit getting dynamics lessons fact miniaturized casio doesnt weighted keys bit issue however figure piano time grandmas house used help along skill theory teaching rounded hand learning fingering playing dexterity games keys small enough reach intervals little keyboard great ps big thank prior commenters adapter recommendations bought casio ade95 keyboard power supply 20 amazon worked fine perfect keyboard young child\n",
      "Real Score: 5.0\n",
      "Predicted Score: 4.0\n",
      "----------------------------------------\n",
      "Original Text:\n",
      " 3 years use top vertical post seat spindle slides split 1 tube seat wobbles excessively im gigging good old back post split 3 yrs\n",
      "Real Score: 2.0\n",
      "Predicted Score: 5.0\n",
      "----------------------------------------\n",
      "Original Text:\n",
      " well much say game got day came locked room untill beat first time took 24 hours beat every second 24 hours great game much action packed seductive characters youll know mean get game takes place 1960s cold war play snake aka big boss get face new foes well old ones ocelot game also cool history behind big boss mystery gets big bosss past find got title detail game incredible mean get severly injured give yourslef surgery even hunt eat food keep stanima one minor default game takes little long load probably wont even notice stunned game theres certain sniper battle game take hour well test skills patience really cool well suggest get game new final fantasy game coming definatly contender game year also need tips game email k2jbrittyahoocom practically master game beat 16 times already im still sick best game\n",
      "Real Score: 5.0\n",
      "Predicted Score: 5.0\n",
      "----------------------------------------\n"
     ]
    }
   ],
   "source": [
    "for i in range (train_size, train_size+10):\n",
    "    print('Original Text:\\n',reviews.text[i])\n",
    "    print('Real Score:',test_labels[i])\n",
    "    print('Predicted Score:', y_pred[i-train_size])\n",
    "    print('----------------------------------------')"
   ]
  }
 ],
 "metadata": {
  "kernelspec": {
   "display_name": "Python 3",
   "language": "python",
   "name": "python3"
  },
  "language_info": {
   "codemirror_mode": {
    "name": "ipython",
    "version": 3
   },
   "file_extension": ".py",
   "mimetype": "text/x-python",
   "name": "python",
   "nbconvert_exporter": "python",
   "pygments_lexer": "ipython3",
   "version": "3.8.8"
  }
 },
 "nbformat": 4,
 "nbformat_minor": 5
}
